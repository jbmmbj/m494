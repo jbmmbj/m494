{
  "cells": [
    {
      "cell_type": "markdown",
      "metadata": {
        "id": "view-in-github",
        "colab_type": "text"
      },
      "source": [
        "<a href=\"https://colab.research.google.com/github/jbmmbj/m494/blob/main/INN_MNIST_5_28_24.ipynb\" target=\"_parent\"><img src=\"https://colab.research.google.com/assets/colab-badge.svg\" alt=\"Open In Colab\"/></a>"
      ]
    },
    {
      "cell_type": "markdown",
      "metadata": {
        "id": "NxQeZRRitPaO"
      },
      "source": [
        "# **Invertible Neural Network Trained on MNIST Data**"
      ]
    },
    {
      "cell_type": "markdown",
      "metadata": {
        "id": "28x4oB1IcO3-"
      },
      "source": [
        "## Install & Import Dependencies"
      ]
    },
    {
      "cell_type": "code",
      "execution_count": null,
      "metadata": {
        "id": "J_aO4rZ6cVia",
        "tags": []
      },
      "outputs": [],
      "source": [
        "pip install FrEIA"
      ]
    },
    {
      "cell_type": "code",
      "execution_count": null,
      "metadata": {
        "tags": [],
        "id": "WN4vOrG2eYh_"
      },
      "outputs": [],
      "source": [
        "pip install torchvision"
      ]
    },
    {
      "cell_type": "code",
      "execution_count": null,
      "metadata": {
        "tags": [],
        "id": "P3rnEuA9eYiA"
      },
      "outputs": [],
      "source": [
        "pip install tensorflow"
      ]
    },
    {
      "cell_type": "code",
      "execution_count": null,
      "metadata": {
        "tags": [],
        "id": "kBBT10fFeYiB"
      },
      "outputs": [],
      "source": [
        "pip install keras"
      ]
    },
    {
      "cell_type": "code",
      "execution_count": null,
      "metadata": {
        "id": "M0yP1z3DcO3_",
        "tags": []
      },
      "outputs": [],
      "source": [
        "%matplotlib inline\n",
        "from time import time\n",
        "\n",
        "import torch\n",
        "import torch.nn as nn\n",
        "import torch.optim\n",
        "import numpy as np\n",
        "import matplotlib.pyplot as plt\n",
        "from tqdm import tqdm\n",
        "\n",
        "from FrEIA.framework import InputNode, OutputNode, Node, ReversibleGraphNet\n",
        "from FrEIA.modules import GLOWCouplingBlock, PermuteRandom, InvertibleSigmoid, AllInOneBlock\n",
        "\n",
        "\n",
        "device = 'cuda' if torch.cuda.is_available() else 'cpu'"
      ]
    },
    {
      "cell_type": "markdown",
      "metadata": {
        "id": "70hn2hzRcO4A"
      },
      "source": [
        "## Prepare MNIST Data"
      ]
    },
    {
      "cell_type": "markdown",
      "metadata": {
        "id": "tjQP964vgRi8"
      },
      "source": [
        "Load MNIST data"
      ]
    },
    {
      "cell_type": "code",
      "execution_count": null,
      "metadata": {
        "colab": {
          "base_uri": "https://localhost:8080/"
        },
        "id": "YPuuhyqQSSK4",
        "outputId": "3d8db8ff-2961-4e80-9251-b315ad194e8c"
      },
      "outputs": [
        {
          "name": "stderr",
          "output_type": "stream",
          "text": [
            "2024-05-28 11:22:31.668764: I tensorflow/core/platform/cpu_feature_guard.cc:210] This TensorFlow binary is optimized to use available CPU instructions in performance-critical operations.\n",
            "To enable the following instructions: AVX2 FMA, in other operations, rebuild TensorFlow with the appropriate compiler flags.\n",
            "2024-05-28 11:22:33.320643: W tensorflow/compiler/tf2tensorrt/utils/py_utils.cc:38] TF-TRT Warning: Could not find TensorRT\n"
          ]
        },
        {
          "name": "stdout",
          "output_type": "stream",
          "text": [
            "Downloading data from https://storage.googleapis.com/tensorflow/tf-keras-datasets/mnist.npz\n",
            "\u001b[1m11490434/11490434\u001b[0m \u001b[32m━━━━━━━━━━━━━━━━━━━━\u001b[0m\u001b[37m\u001b[0m \u001b[1m0s\u001b[0m 0us/step\n"
          ]
        }
      ],
      "source": [
        "import keras\n",
        "(x_train, y_train), (x_test, y_test) = keras.datasets.mnist.load_data()"
      ]
    },
    {
      "cell_type": "markdown",
      "metadata": {
        "id": "gsx_P2x_zTRY"
      },
      "source": [
        "Flatten images"
      ]
    },
    {
      "cell_type": "code",
      "execution_count": null,
      "metadata": {
        "id": "2ATII1xYT8bd"
      },
      "outputs": [],
      "source": [
        "x_train_t = torch.tensor(x_train)\n",
        "x_train_flat = torch.flatten(x_train_t, 1, 2)\n",
        "x_train_flat = x_train_flat / 255\n",
        "x_test_t = torch.tensor(x_test)\n",
        "x_test_flat = torch.flatten(x_test_t, 1, 2)\n",
        "x_test_flat = x_test_flat / 255"
      ]
    },
    {
      "cell_type": "markdown",
      "metadata": {
        "id": "nNafZRdogIsS"
      },
      "source": [
        "One-hot encode labels"
      ]
    },
    {
      "cell_type": "code",
      "execution_count": null,
      "metadata": {
        "id": "rQ5xMfKwjEjY"
      },
      "outputs": [],
      "source": [
        "y_train_t = torch.tensor(y_train)\n",
        "y_test_t = torch.tensor(y_test)\n",
        "\n",
        "zero = torch.tensor([1,0,0,0,0,0,0,0,0,0])\n",
        "one = torch.tensor([0,1,0,0,0,0,0,0,0,0])\n",
        "two = torch.tensor([0,0,1,0,0,0,0,0,0,0])\n",
        "three = torch.tensor([0,0,0,1,0,0,0,0,0,0])\n",
        "four = torch.tensor([0,0,0,0,1,0,0,0,0,0])\n",
        "five = torch.tensor([0,0,0,0,0,1,0,0,0,0])\n",
        "six = torch.tensor([0,0,0,0,0,0,1,0,0,0])\n",
        "seven = torch.tensor([0,0,0,0,0,0,0,1,0,0])\n",
        "eight = torch.tensor([0,0,0,0,0,0,0,0,1,0])\n",
        "nine = torch.tensor([0,0,0,0,0,0,0,0,0,1])"
      ]
    },
    {
      "cell_type": "code",
      "execution_count": null,
      "metadata": {
        "id": "Y4QbLfQobZuZ"
      },
      "outputs": [],
      "source": [
        "y_train_empty = torch.empty(60000, 10)\n",
        "\n",
        "for i in range(len(y_train_t)):\n",
        "  if y_train_t[i] == 0:\n",
        "    y_train_empty[i] = zero\n",
        "  elif y_train_t[i] == 1:\n",
        "    y_train_empty[i] = one\n",
        "  elif y_train_t[i] == 2:\n",
        "    y_train_empty[i] = two\n",
        "  elif y_train_t[i] == 3:\n",
        "    y_train_empty[i] = three\n",
        "  elif y_train_t[i] == 4:\n",
        "    y_train_empty[i] = four\n",
        "  elif y_train_t[i] == 5:\n",
        "    y_train_empty[i] = five\n",
        "  elif y_train_t[i] == 6:\n",
        "    y_train_empty[i] = six\n",
        "  elif y_train_t[i] == 7:\n",
        "    y_train_empty[i] = seven\n",
        "  elif y_train_t[i] == 8:\n",
        "    y_train_empty[i] = eight\n",
        "  elif y_train_t[i] == 9:\n",
        "    y_train_empty[i] = nine\n",
        "\n",
        "y_train_1hot = y_train_empty"
      ]
    },
    {
      "cell_type": "code",
      "execution_count": null,
      "metadata": {
        "id": "G2YRl09Gu0EH"
      },
      "outputs": [],
      "source": [
        "y_test_empty = torch.empty(10000, 10)\n",
        "\n",
        "for i in range(len(y_test_t)):\n",
        "  if y_test_t[i] == 0:\n",
        "    y_test_empty[i] = zero\n",
        "  elif y_test_t[i] == 1:\n",
        "    y_test_empty[i] = one\n",
        "  elif y_test_t[i] == 2:\n",
        "    y_test_empty[i] = two\n",
        "  elif y_test_t[i] == 3:\n",
        "    y_test_empty[i] = three\n",
        "  elif y_test_t[i] == 4:\n",
        "    y_test_empty[i] = four\n",
        "  elif y_test_t[i] == 5:\n",
        "    y_test_empty[i] = five\n",
        "  elif y_test_t[i] == 6:\n",
        "    y_test_empty[i] = six\n",
        "  elif y_test_t[i] == 7:\n",
        "    y_test_empty[i] = seven\n",
        "  elif y_test_t[i] == 8:\n",
        "    y_test_empty[i] = eight\n",
        "  elif y_test_t[i] == 9:\n",
        "    y_test_empty[i] = nine\n",
        "\n",
        "y_test_1hot = y_test_empty"
      ]
    },
    {
      "cell_type": "markdown",
      "metadata": {
        "id": "CDYfLsmjcO4B"
      },
      "source": [
        "## Build Network"
      ]
    },
    {
      "cell_type": "code",
      "execution_count": null,
      "metadata": {
        "id": "JBat-Ns6cO4C"
      },
      "outputs": [],
      "source": [
        "ndim_tot = 800\n",
        "ndim_x = 784\n",
        "ndim_y = 10\n",
        "ndim_z = 784\n",
        "\n",
        "def subnet_fc(c_in, c_out):\n",
        "    return nn.Sequential(nn.Linear(c_in, 512), nn.ReLU(),\n",
        "                         nn.Linear(512,  c_out))\n",
        "\n",
        "nodes = [InputNode(ndim_tot, name='input')]\n",
        "\n",
        "for k in range(8):\n",
        "    nodes.append(Node(nodes[-1],\n",
        "                      GLOWCouplingBlock,\n",
        "                      {'subnet_constructor':subnet_fc, 'clamp':2.0},\n",
        "                      name=F'coupling_{k}'))\n",
        "    nodes.append(Node(nodes[-1],\n",
        "                      PermuteRandom,\n",
        "                      {'seed':k},\n",
        "                      name=F'permute_{k}'))\n",
        "\n",
        "nodes.append(OutputNode(nodes[-1], name='output'))\n",
        "\n",
        "model = ReversibleGraphNet(nodes, verbose=False)"
      ]
    },
    {
      "cell_type": "markdown",
      "metadata": {
        "id": "whQvWzdQcO4C"
      },
      "source": [
        "## Training"
      ]
    },
    {
      "cell_type": "markdown",
      "metadata": {
        "id": "idc96ZLizGYn"
      },
      "source": [
        "Parameters and Loss Functions"
      ]
    },
    {
      "cell_type": "code",
      "execution_count": null,
      "metadata": {
        "id": "KnJ37bgXcO4C"
      },
      "outputs": [],
      "source": [
        "# Training parameters\n",
        "n_epochs = 50\n",
        "n_its_per_epoch = 50\n",
        "batch_size = 1200\n",
        "\n",
        "lr = 1e-3\n",
        "l2_reg = 2e-5\n",
        "\n",
        "y_noise_scale = 1e-1\n",
        "zeros_noise_scale = 5e-2\n",
        "\n",
        "# Each loss is weighted to make them comparable magnitudes:\n",
        "lambd_predict = 3.\n",
        "lambd_latent = 300.\n",
        "lambd_rev = 400.\n",
        "\n",
        "pad_x = torch.zeros(batch_size, ndim_tot - ndim_x)\n",
        "pad_yz = torch.zeros(batch_size, ndim_tot - ndim_y - ndim_z)\n",
        "\n",
        "trainable_parameters = [p for p in model.parameters() if p.requires_grad]\n",
        "optimizer = torch.optim.Adam(trainable_parameters, lr=lr, betas=(0.8, 0.9),\n",
        "                             eps=1e-6, weight_decay=l2_reg)\n",
        "\n",
        "\n",
        "def MMD_multiscale(x, y):\n",
        "    xx, yy, zz = torch.mm(x,x.t()), torch.mm(y,y.t()), torch.mm(x,y.t())\n",
        "\n",
        "    rx = (xx.diag().unsqueeze(0).expand_as(xx))\n",
        "    ry = (yy.diag().unsqueeze(0).expand_as(yy))\n",
        "\n",
        "    dxx = rx.t() + rx - 2.*xx\n",
        "    dyy = ry.t() + ry - 2.*yy\n",
        "    dxy = rx.t() + ry - 2.*zz\n",
        "\n",
        "    XX, YY, XY = (torch.zeros(xx.shape).to(device),\n",
        "                  torch.zeros(xx.shape).to(device),\n",
        "                  torch.zeros(xx.shape).to(device))\n",
        "\n",
        "    for a in [0.05, 0.2, 0.9]:\n",
        "        XX += a**2 * (a**2 + dxx)**-1\n",
        "        YY += a**2 * (a**2 + dyy)**-1\n",
        "        XY += a**2 * (a**2 + dxy)**-1\n",
        "\n",
        "    return torch.mean(XX + YY - 2.*XY)\n",
        "\n",
        "\n",
        "def fit(input, target):\n",
        "    return torch.mean((input - target)**2)\n",
        "\n",
        "loss_backward = MMD_multiscale\n",
        "loss_latent = MMD_multiscale\n",
        "loss_fit = fit\n",
        "\n",
        "test_loader = torch.utils.data.DataLoader(\n",
        "    torch.utils.data.TensorDataset(x_test_flat, y_test_1hot),\n",
        "    batch_size=batch_size, shuffle=True, drop_last=True)\n",
        "\n",
        "train_loader = torch.utils.data.DataLoader(\n",
        "    torch.utils.data.TensorDataset(x_train_flat, y_train_1hot),\n",
        "    batch_size=batch_size, shuffle=True, drop_last=True)"
      ]
    },
    {
      "cell_type": "markdown",
      "metadata": {
        "id": "qspFPBKHcO4C"
      },
      "source": [
        "Define training loop"
      ]
    },
    {
      "cell_type": "code",
      "execution_count": null,
      "metadata": {
        "id": "3gZOUx5wcO4D"
      },
      "outputs": [],
      "source": [
        "def train(i_epoch=0):\n",
        "    model.train()\n",
        "\n",
        "    l_tot = 0\n",
        "    batch_idx = 0\n",
        "\n",
        "    t_start = time()\n",
        "\n",
        "    loss_factor = min(1., 2. * 0.002**(1. - (float(i_epoch*10) / n_epochs)))\n",
        "\n",
        "    for x, y in train_loader:\n",
        "        batch_idx += 1\n",
        "        if batch_idx > n_its_per_epoch:\n",
        "            break\n",
        "\n",
        "        x, y = x.to(device), y.to(device)\n",
        "\n",
        "        y_clean = y.clone()\n",
        "        pad_x = zeros_noise_scale * torch.randn(batch_size, ndim_tot -\n",
        "                                                ndim_x, device=device)\n",
        "        pad_yz = zeros_noise_scale * torch.randn(batch_size, ndim_tot -\n",
        "                                                 ndim_y - ndim_z, device=device)\n",
        "\n",
        "        y += y_noise_scale * torch.randn(batch_size, ndim_y, dtype=torch.float, device=device)\n",
        "\n",
        "        x, y = (torch.cat((x, pad_x),  dim=1),\n",
        "                torch.cat((torch.randn(batch_size, ndim_z, device=device), pad_yz, y),\n",
        "                          dim=1))\n",
        "\n",
        "\n",
        "        optimizer.zero_grad()\n",
        "\n",
        "        # Forward step:\n",
        "\n",
        "        output, _ = model(x)\n",
        "\n",
        "        # Remove zero-padding for latent loss\n",
        "        y_short = torch.cat((y[:, :ndim_z], y[:, -ndim_y:]), dim=1)\n",
        "\n",
        "        l = lambd_predict * loss_fit(output[:, ndim_z:], y[:, ndim_z:])\n",
        "\n",
        "        output_block_grad = torch.cat((output[:, :ndim_z],\n",
        "                                       output[:, -ndim_y:].data), dim=1)\n",
        "\n",
        "        l += lambd_latent * loss_latent(output_block_grad, y_short)\n",
        "        l_tot += l.data.item()\n",
        "\n",
        "        l.backward()\n",
        "\n",
        "        # Backward step:\n",
        "        pad_yz = zeros_noise_scale * torch.randn(batch_size, ndim_tot -\n",
        "                                                 ndim_y - ndim_z, device=device)\n",
        "        y = y_clean + y_noise_scale * torch.randn(batch_size, ndim_y, device=device)\n",
        "\n",
        "        orig_z_perturbed = (output.data[:, :ndim_z] + y_noise_scale *\n",
        "                            torch.randn(batch_size, ndim_z, device=device))\n",
        "        y_rev = torch.cat((orig_z_perturbed, pad_yz,\n",
        "                           y), dim=1)\n",
        "        y_rev_rand = torch.cat((torch.randn(batch_size, ndim_z, device=device), pad_yz,\n",
        "                                y), dim=1)\n",
        "\n",
        "        output_rev, _ = model(y_rev, rev=True)\n",
        "        output_rev_rand, _ = model(y_rev_rand, rev=True)\n",
        "\n",
        "        l_rev = (\n",
        "            lambd_rev\n",
        "            * loss_factor\n",
        "            * loss_backward(output_rev_rand[:, :ndim_x],\n",
        "                            x[:, :ndim_x])\n",
        "        )\n",
        "\n",
        "        l_rev += lambd_predict * loss_fit(output_rev, x)\n",
        "\n",
        "        l_tot += l_rev.data.item()\n",
        "\n",
        "        l_rev.backward()\n",
        "\n",
        "        for p in model.parameters():\n",
        "            if p.grad is not None:\n",
        "              p.grad.data.clamp_(-15.00, 15.00)\n",
        "\n",
        "        optimizer.step()\n",
        "\n",
        "    return l_tot / batch_idx"
      ]
    },
    {
      "cell_type": "markdown",
      "metadata": {
        "id": "iU9yU_fgcO4D"
      },
      "source": [
        "Training"
      ]
    },
    {
      "cell_type": "code",
      "execution_count": null,
      "metadata": {
        "colab": {
          "base_uri": "https://localhost:8080/"
        },
        "id": "A4ZbAAT-cO4D",
        "outputId": "016e59a2-cb0e-4676-bb62-628b7b66af49"
      },
      "outputs": [
        {
          "name": "stderr",
          "output_type": "stream",
          "text": [
            "100%|###########################################| 50/50 [04:15<00:00,  5.12s/it]"
          ]
        },
        {
          "name": "stdout",
          "output_type": "stream",
          "text": [
            "\n",
            "\n",
            "Training time: 4.26 minutes\n",
            "\n"
          ]
        },
        {
          "name": "stderr",
          "output_type": "stream",
          "text": [
            "\n"
          ]
        }
      ],
      "source": [
        "for param in trainable_parameters:\n",
        "    param.data = 0.05*torch.randn_like(param)\n",
        "\n",
        "model.to(device)\n",
        "\n",
        "N_samp = 200\n",
        "\n",
        "x_samps = torch.cat([x for x,y in test_loader], dim=0)[:N_samp]\n",
        "y_samps = torch.cat([y for x,y in test_loader], dim=0)[:N_samp]\n",
        "c = np.where(y_samps)[1]\n",
        "y_samps += y_noise_scale * torch.randn(N_samp, ndim_y)\n",
        "y_samps = torch.cat([torch.randn(N_samp, ndim_z),\n",
        "                     zeros_noise_scale * torch.zeros(N_samp, ndim_tot - ndim_y - ndim_z),\n",
        "                     y_samps], dim=1)\n",
        "y_samps = y_samps.to(device)\n",
        "\n",
        "try:\n",
        "    t_start = time()\n",
        "    for i_epoch in tqdm(range(n_epochs), ascii=True, ncols=80):\n",
        "\n",
        "        train(i_epoch)\n",
        "\n",
        "    # Sample the trained model\n",
        "    rev_x, _ = model(y_samps, rev=True)\n",
        "    rev_x = rev_x.cpu().data.numpy()\n",
        "\n",
        "    pred_num, _ = model(torch.cat((x_samps, torch.zeros(N_samp, ndim_tot - ndim_x)),\n",
        "                              dim=1).to(device))\n",
        "    pred_num = pred_num.data[:, -10:].argmax(dim=1)\n",
        "\n",
        "\n",
        "\n",
        "except KeyboardInterrupt:\n",
        "    pass\n",
        "finally:\n",
        "    print(f\"\\n\\nTraining time: {(time()-t_start)/60:.2f} minutes\\n\")"
      ]
    },
    {
      "cell_type": "markdown",
      "metadata": {
        "id": "3jTM0Ea31m--"
      },
      "source": [
        "## Testing normalizing direction (image classification)"
      ]
    },
    {
      "cell_type": "markdown",
      "metadata": {
        "id": "xsTJNkYz30vM"
      },
      "source": [
        "Unflatten and plot first 20 input images"
      ]
    },
    {
      "cell_type": "code",
      "execution_count": null,
      "metadata": {
        "colab": {
          "base_uri": "https://localhost:8080/",
          "height": 69
        },
        "id": "swGxbMaEJ7QT",
        "outputId": "dd83e4f3-fe9d-4780-d970-12421925206a"
      },
      "outputs": [
        {
          "data": {
            "image/png": "[encoded data removed]",
            "text/plain": [
              "<Figure size 1000x1000 with 20 Axes>"
            ]
          },
          "metadata": {},
          "output_type": "display_data"
        }
      ],
      "source": [
        "x_samps_unflat = torch.unflatten(x_samps, 1, (28,28))\n",
        "\n",
        "f, axarr = plt.subplots(1, 20, figsize=(10,10))\n",
        "\n",
        "for i in range(20):\n",
        "  axarr[i].imshow(x_samps_unflat[i].numpy(), cmap=plt.get_cmap('gray'))\n",
        "  axarr[i].axis('off')"
      ]
    },
    {
      "cell_type": "markdown",
      "metadata": {
        "id": "v6f5W3Ch13qa"
      },
      "source": [
        "Print output labels of first 20 images"
      ]
    },
    {
      "cell_type": "code",
      "execution_count": null,
      "metadata": {
        "colab": {
          "base_uri": "https://localhost:8080/"
        },
        "id": "BkWF7X2iJZww",
        "outputId": "87c8ee01-53a3-4f5d-9a2b-1f63fc06aac0"
      },
      "outputs": [
        {
          "name": "stdout",
          "output_type": "stream",
          "text": [
            "[8 3 7 3 3 9 6 3 6 8 1 8 8 2 8 0 4 4 4 2]\n"
          ]
        }
      ],
      "source": [
        "print(f'{pred_num.cpu().data.numpy()[:20]}')"
      ]
    },
    {
      "cell_type": "markdown",
      "metadata": {
        "id": "Nn7eS2C23QiI"
      },
      "source": [
        "## Testing generative direction (image generation from label)"
      ]
    },
    {
      "cell_type": "markdown",
      "metadata": {
        "id": "ps9WsbfO38ir"
      },
      "source": [
        "Normalize pixel values to 0-255 (greyscale)"
      ]
    },
    {
      "cell_type": "code",
      "execution_count": null,
      "metadata": {
        "id": "G1Rrq0l1CTsj"
      },
      "outputs": [],
      "source": [
        "def normalize(values, actual_bounds, desired_bounds):\n",
        "    return [desired_bounds[0] + (x - actual_bounds[0]) * (desired_bounds[1] - desired_bounds[0]) / (actual_bounds[1] - actual_bounds[0]) for x in values]"
      ]
    },
    {
      "cell_type": "markdown",
      "metadata": {
        "id": "1zd7TYcE5oB7"
      },
      "source": [
        "Plot first 20 output images"
      ]
    },
    {
      "cell_type": "code",
      "execution_count": null,
      "metadata": {
        "colab": {
          "base_uri": "https://localhost:8080/",
          "height": 93
        },
        "id": "hfe9nmw_E0DT",
        "outputId": "d3e4b898-0751-4697-950f-df895da241e9"
      },
      "outputs": [
        {
          "data": {
            "image/png": "[encoded data removed]",
            "text/plain": [
              "<Figure size 2000x2000 with 20 Axes>"
            ]
          },
          "metadata": {},
          "output_type": "display_data"
        }
      ],
      "source": [
        "f, axarr = plt.subplots(1, 20, figsize=(20,20))\n",
        "\n",
        "for p in range(20):\n",
        "\n",
        "  norm_x = normalize(\n",
        "      (255*rev_x[p]),\n",
        "      (min(rev_x[p]),max(rev_x[p])),\n",
        "      (0,255)\n",
        "  )\n",
        "\n",
        "  x_trunc = np.trunc(norm_x)\n",
        "  x_flat = x_trunc[0:784]\n",
        "  x_im = np.reshape(x_flat, (28,28))\n",
        "\n",
        "  axarr[p].imshow(x_im, cmap=plt.get_cmap('gray'))\n",
        "  axarr[p].axis('off')"
      ]
    },
    {
      "cell_type": "markdown",
      "metadata": {
        "id": "AH3TtWO-55BE"
      },
      "source": [
        "Print input labels of first 20 images"
      ]
    },
    {
      "cell_type": "code",
      "execution_count": null,
      "metadata": {
        "colab": {
          "base_uri": "https://localhost:8080/"
        },
        "id": "WtKsm6mfN3dQ",
        "outputId": "97aa3b9f-c84f-418a-f55d-3d3a6f375574",
        "tags": []
      },
      "outputs": [
        {
          "name": "stdout",
          "output_type": "stream",
          "text": [
            "6 6 9 6 2 6 5 7 6 0 0 1 5 9 0 9 0 3 5 0 "
          ]
        }
      ],
      "source": [
        "for p in range (20):\n",
        "  print(f'{torch.argmax(y_samps[p, -10:]).item()}', end=' ')"
      ]
    }
  ],
  "metadata": {
    "accelerator": "GPU",
    "colab": {
      "gpuType": "T4",
      "provenance": [],
      "include_colab_link": true
    },
    "kernelspec": {
      "display_name": "NERSC Python",
      "language": "python",
      "name": "python3"
    },
    "language_info": {
      "codemirror_mode": {
        "name": "ipython",
        "version": 3
      },
      "file_extension": ".py",
      "mimetype": "text/x-python",
      "name": "python",
      "nbconvert_exporter": "python",
      "pygments_lexer": "ipython3",
      "version": "3.11.7"
    }
  },
  "nbformat": 4,
  "nbformat_minor": 0
}