{
  "cells": [
    {
      "cell_type": "markdown",
      "metadata": {
        "id": "view-in-github",
        "colab_type": "text"
      },
      "source": [
        "<a href=\"https://colab.research.google.com/github/jbmmbj/m494/blob/main/All_Test_1_INN_Fuchs.ipynb\" target=\"_parent\"><img src=\"https://colab.research.google.com/assets/colab-badge.svg\" alt=\"Open In Colab\"/></a>"
      ]
    },
    {
      "cell_type": "markdown",
      "source": [
        "# **Invertible Neural Network Trained on Fuch's Data**\n",
        "\n",
        "https://github.com/ronak-n-desai/fuchs-ml-v2/blob/main/datasets/Fuchs_Data_Generation_v3.2.ipynb"
      ],
      "metadata": {
        "id": "NxQeZRRitPaO"
      }
    },
    {
      "cell_type": "markdown",
      "metadata": {
        "id": "28x4oB1IcO3-"
      },
      "source": [
        "## Dependencies"
      ]
    },
    {
      "cell_type": "code",
      "source": [
        "pip install FrEIA"
      ],
      "metadata": {
        "id": "J_aO4rZ6cVia"
      },
      "execution_count": null,
      "outputs": []
    },
    {
      "cell_type": "code",
      "execution_count": 2,
      "metadata": {
        "id": "M0yP1z3DcO3_"
      },
      "outputs": [],
      "source": [
        "%matplotlib inline\n",
        "from time import time\n",
        "\n",
        "import torch\n",
        "import torch.nn as nn\n",
        "import torch.optim\n",
        "import numpy as np\n",
        "import matplotlib.pyplot as plt\n",
        "from tqdm import tqdm\n",
        "import pandas as pd\n",
        "\n",
        "from FrEIA.framework import InputNode, OutputNode, Node, ReversibleGraphNet\n",
        "from FrEIA.modules import GLOWCouplingBlock, PermuteRandom, InvertibleSigmoid, AllInOneBlock\n",
        "\n",
        "\n",
        "device = 'cuda' if torch.cuda.is_available() else 'cpu'"
      ]
    },
    {
      "cell_type": "markdown",
      "metadata": {
        "id": "70hn2hzRcO4A"
      },
      "source": [
        "## Prepare Fuch's Data"
      ]
    },
    {
      "cell_type": "markdown",
      "source": [
        "Load Fuch's data"
      ],
      "metadata": {
        "id": "tjQP964vgRi8"
      }
    },
    {
      "cell_type": "code",
      "source": [
        "df = pd.read_csv('data_noise0.csv')"
      ],
      "metadata": {
        "id": "YPuuhyqQSSK4"
      },
      "execution_count": 3,
      "outputs": []
    },
    {
      "cell_type": "markdown",
      "source": [
        "Data set size is 25000 divided into 20000 train and 5000 test"
      ],
      "metadata": {
        "id": "5M8bOeTP9zHs"
      }
    },
    {
      "cell_type": "code",
      "source": [
        "def normalize(values, actual_bounds, desired_bounds):\n",
        "    return [desired_bounds[0] + (x - actual_bounds[0]) * (desired_bounds[1] - desired_bounds[0]) / (actual_bounds[1] - actual_bounds[0]) for x in values]"
      ],
      "metadata": {
        "id": "sEpKiacAUo6H"
      },
      "execution_count": 4,
      "outputs": []
    },
    {
      "cell_type": "code",
      "source": [
        "l1 = list(df['Focal_Distance_(um)'])\n",
        "l2 = list(df['Intensity_(W_cm2)'] * 1e-18)\n",
        "l3 = list(df['Target_Thickness (um)'])\n",
        "lx = list(zip(l1, l2, l3))\n",
        "x = torch.tensor(lx)\n",
        "x_train = x[:20000]\n",
        "x_test = x[20000:]"
      ],
      "metadata": {
        "id": "RIQwImHUadXH"
      },
      "execution_count": 5,
      "outputs": []
    },
    {
      "cell_type": "code",
      "source": [
        "l1 = list(df['Avg_Proton_Energy_(MeV)'])\n",
        "l2 = list(df['Max_Proton_Energy_(MeV)'])\n",
        "l3 = list(df['Total_Proton_Energy_(MeV)'] * 1e-7)\n",
        "ly = list(zip(l1, l2, l3))\n",
        "y = torch.tensor(ly)\n",
        "y_train = y[:20000]\n",
        "y_test = y[20000:]"
      ],
      "metadata": {
        "id": "4uHKsgURa-dv"
      },
      "execution_count": 6,
      "outputs": []
    },
    {
      "cell_type": "markdown",
      "metadata": {
        "id": "CDYfLsmjcO4B"
      },
      "source": [
        "## Build Network"
      ]
    },
    {
      "cell_type": "code",
      "execution_count": 7,
      "metadata": {
        "id": "JBat-Ns6cO4C"
      },
      "outputs": [],
      "source": [
        "ndim_tot = 16\n",
        "ndim_x = 3\n",
        "ndim_y = 3\n",
        "ndim_z = 8\n",
        "\n",
        "def subnet_fc(c_in, c_out):\n",
        "    return nn.Sequential(nn.Linear(c_in, 512), nn.ReLU(),\n",
        "                         nn.Linear(512,  c_out))\n",
        "\n",
        "nodes = [InputNode(ndim_tot, name='input')]\n",
        "\n",
        "for k in range(8):\n",
        "    nodes.append(Node(nodes[-1],\n",
        "                      GLOWCouplingBlock,\n",
        "                      {'subnet_constructor':subnet_fc, 'clamp':2.0},\n",
        "                      name=F'coupling_{k}'))\n",
        "    nodes.append(Node(nodes[-1],\n",
        "                      PermuteRandom,\n",
        "                      {'seed':k},\n",
        "                      name=F'permute_{k}'))\n",
        "\n",
        "nodes.append(OutputNode(nodes[-1], name='output'))\n",
        "\n",
        "model = ReversibleGraphNet(nodes, verbose=False)"
      ]
    },
    {
      "cell_type": "markdown",
      "metadata": {
        "id": "whQvWzdQcO4C"
      },
      "source": [
        "## Training"
      ]
    },
    {
      "cell_type": "markdown",
      "source": [
        "Parameters and Loss Functions"
      ],
      "metadata": {
        "id": "idc96ZLizGYn"
      }
    },
    {
      "cell_type": "code",
      "execution_count": 15,
      "metadata": {
        "id": "KnJ37bgXcO4C"
      },
      "outputs": [],
      "source": [
        "# Training parameters\n",
        "n_epochs = 100\n",
        "n_its_per_epoch = 50\n",
        "batch_size = 400\n",
        "\n",
        "lr = 1e-3\n",
        "l2_reg = 2e-5\n",
        "\n",
        "y_noise_scale = 1e-1\n",
        "zeros_noise_scale = 5e-2\n",
        "\n",
        "# Each loss is weighted to make them comparable magnitudes:\n",
        "lambd_predict = 6.\n",
        "lambd_latent = 100.\n",
        "lambd_rev = 400.\n",
        "\n",
        "pad_x = torch.zeros(batch_size, ndim_tot - ndim_x)\n",
        "pad_yz = torch.zeros(batch_size, ndim_tot - ndim_y - ndim_z)\n",
        "\n",
        "trainable_parameters = [p for p in model.parameters() if p.requires_grad]\n",
        "optimizer = torch.optim.Adam(trainable_parameters, lr=lr, betas=(0.8, 0.9),\n",
        "                             eps=1e-6, weight_decay=l2_reg)\n",
        "\n",
        "\n",
        "def MMD_multiscale(x, y):\n",
        "    xx, yy, zz = torch.mm(x,x.t()), torch.mm(y,y.t()), torch.mm(x,y.t())\n",
        "\n",
        "    rx = (xx.diag().unsqueeze(0).expand_as(xx))\n",
        "    ry = (yy.diag().unsqueeze(0).expand_as(yy))\n",
        "\n",
        "    dxx = rx.t() + rx - 2.*xx\n",
        "    dyy = ry.t() + ry - 2.*yy\n",
        "    dxy = rx.t() + ry - 2.*zz\n",
        "\n",
        "    XX, YY, XY = (torch.zeros(xx.shape).to(device),\n",
        "                  torch.zeros(xx.shape).to(device),\n",
        "                  torch.zeros(xx.shape).to(device))\n",
        "\n",
        "    for a in [0.05, 0.2, 0.9]:\n",
        "        XX += a**2 * (a**2 + dxx)**-1\n",
        "        YY += a**2 * (a**2 + dyy)**-1\n",
        "        XY += a**2 * (a**2 + dxy)**-1\n",
        "\n",
        "    return torch.mean(XX + YY - 2.*XY)\n",
        "\n",
        "\n",
        "def fit(input, target):\n",
        "    return torch.mean((input - target)**2)\n",
        "\n",
        "loss_backward = MMD_multiscale\n",
        "loss_latent = MMD_multiscale\n",
        "loss_fit = fit\n",
        "\n",
        "test_loader = torch.utils.data.DataLoader(\n",
        "    torch.utils.data.TensorDataset(x_test, y_test),\n",
        "    batch_size=batch_size, shuffle=True, drop_last=True)\n",
        "\n",
        "train_loader = torch.utils.data.DataLoader(\n",
        "    torch.utils.data.TensorDataset(x_train, y_train),\n",
        "    batch_size=batch_size, shuffle=True, drop_last=True)"
      ]
    },
    {
      "cell_type": "markdown",
      "metadata": {
        "id": "qspFPBKHcO4C"
      },
      "source": [
        "Define training loop"
      ]
    },
    {
      "cell_type": "code",
      "execution_count": 16,
      "metadata": {
        "id": "3gZOUx5wcO4D"
      },
      "outputs": [],
      "source": [
        "def train(i_epoch=0):\n",
        "    model.train()\n",
        "\n",
        "    forward_loss_latent = 0\n",
        "    forward_loss_fit = 0\n",
        "    backward_loss_backward = 0\n",
        "    backward_loss_fit = 0\n",
        "    total_loss = 0\n",
        "    it_loss = 0\n",
        "\n",
        "    l_tot = 0\n",
        "    batch_idx = 0\n",
        "\n",
        "    t_start = time()\n",
        "\n",
        "    loss_factor1 = min(1., 2. * 0.002**(1. - (float(i_epoch*5) / n_epochs)))\n",
        "    loss_factor2 = min(1., 2. * 0.000002**(1. - (float(i_epoch*5) / n_epochs)))\n",
        "\n",
        "    for x, y in train_loader:\n",
        "        batch_idx += 1\n",
        "        if batch_idx > n_its_per_epoch:\n",
        "            break\n",
        "\n",
        "        x, y = x.to(device), y.to(device)\n",
        "\n",
        "        y_clean = y.clone()\n",
        "        pad_x = zeros_noise_scale * torch.randn(batch_size, ndim_tot -\n",
        "                                                ndim_x, device=device)\n",
        "        pad_yz = zeros_noise_scale * torch.randn(batch_size, ndim_tot -\n",
        "                                                 ndim_y - ndim_z, device=device)\n",
        "\n",
        "        y += y_noise_scale * torch.randn(batch_size, ndim_y, dtype=torch.float, device=device)\n",
        "\n",
        "        x, y = (torch.cat((x, pad_x),  dim=1),\n",
        "                torch.cat((torch.randn(batch_size, ndim_z, device=device), pad_yz, y),\n",
        "                          dim=1))\n",
        "\n",
        "\n",
        "        optimizer.zero_grad()\n",
        "\n",
        "        # Forward step:\n",
        "\n",
        "        output, _ = model(x)\n",
        "\n",
        "        # Remove zero-padding for latent loss\n",
        "        y_short = torch.cat((y[:, :ndim_z], y[:, -ndim_y:]), dim=1)\n",
        "\n",
        "        l1 = lambd_predict * loss_fit(output[:, ndim_z:], y[:, ndim_z:])\n",
        "\n",
        "        forward_loss_fit += l1.cpu().data.numpy()\n",
        "\n",
        "        output_block_grad = torch.cat((output[:, :ndim_z],\n",
        "                                       output[:, -ndim_y:].data), dim=1)\n",
        "\n",
        "        l2 = lambd_latent * loss_latent(output_block_grad, y_short)\n",
        "\n",
        "        forward_loss_latent += (l2.cpu().data.numpy())\n",
        "\n",
        "        l = l1 + l2\n",
        "\n",
        "        l.backward()\n",
        "\n",
        "        # Backward step:\n",
        "        pad_yz = zeros_noise_scale * torch.randn(batch_size, ndim_tot -\n",
        "                                                 ndim_y - ndim_z, device=device)\n",
        "        y = y_clean + y_noise_scale * torch.randn(batch_size, ndim_y, device=device)\n",
        "\n",
        "        orig_z_perturbed = (output.data[:, :ndim_z] + y_noise_scale *\n",
        "                            torch.randn(batch_size, ndim_z, device=device))\n",
        "        y_rev = torch.cat((orig_z_perturbed, pad_yz,\n",
        "                           y), dim=1)\n",
        "        y_rev_rand = torch.cat((torch.randn(batch_size, ndim_z, device=device), pad_yz,\n",
        "                                y), dim=1)\n",
        "\n",
        "        output_rev, _ = model(y_rev, rev=True)\n",
        "        output_rev_rand, _ = model(y_rev_rand, rev=True)\n",
        "\n",
        "        l1_rev = (\n",
        "            lambd_rev\n",
        "            * loss_factor1\n",
        "            * loss_backward(output_rev_rand[:, :ndim_x],\n",
        "                            x[:, :ndim_x])\n",
        "        )\n",
        "\n",
        "        backward_loss_backward += l1_rev.cpu().data.numpy()\n",
        "\n",
        "        l2_rev = lambd_predict * loss_factor2 * loss_fit(output_rev, x)\n",
        "\n",
        "        backward_loss_fit += (l2_rev.cpu().data.numpy())\n",
        "\n",
        "        total_loss += (forward_loss_fit + forward_loss_latent + backward_loss_backward + backward_loss_fit)\n",
        "\n",
        "        it_loss = np.append(it_loss, total_loss)\n",
        "\n",
        "        l_rev = l1_rev + l2_rev\n",
        "\n",
        "        l_rev.backward()\n",
        "\n",
        "        for p in model.parameters():\n",
        "            if p.grad is not None:\n",
        "              p.grad.data.clamp_(-15.00, 15.00)\n",
        "\n",
        "        optimizer.step()\n",
        "\n",
        "    return forward_loss_latent / batch_idx, forward_loss_fit / batch_idx, backward_loss_backward / batch_idx, backward_loss_fit / batch_idx, total_loss / batch_idx, it_loss"
      ]
    },
    {
      "cell_type": "markdown",
      "metadata": {
        "id": "iU9yU_fgcO4D"
      },
      "source": [
        "Training"
      ]
    },
    {
      "cell_type": "code",
      "execution_count": 17,
      "metadata": {
        "scrolled": false,
        "id": "A4ZbAAT-cO4D",
        "colab": {
          "base_uri": "https://localhost:8080/"
        },
        "outputId": "69b32fb4-0225-4399-b689-eeba75cf06c5"
      },
      "outputs": [
        {
          "output_type": "stream",
          "name": "stderr",
          "text": [
            "100%|#########################################| 100/100 [05:17<00:00,  3.17s/it]"
          ]
        },
        {
          "output_type": "stream",
          "name": "stdout",
          "text": [
            "\n",
            "\n",
            "Training time: 5.29 minutes\n",
            "\n"
          ]
        },
        {
          "output_type": "stream",
          "name": "stderr",
          "text": [
            "\n"
          ]
        }
      ],
      "source": [
        "for param in trainable_parameters:\n",
        "    param.data = 0.05*torch.randn_like(param)\n",
        "\n",
        "model.to(device)\n",
        "\n",
        "N_samp = 200\n",
        "\n",
        "x_samps = torch.cat([x for x,y in test_loader], dim=0)[:N_samp]\n",
        "x_samps_clean = x_samps\n",
        "y_samps = torch.cat([y for x,y in test_loader], dim=0)[:N_samp]\n",
        "y_samps_clean = y_samps\n",
        "y_samps += y_noise_scale * torch.randn(N_samp, ndim_y)\n",
        "y_samps = torch.cat([torch.randn(N_samp, ndim_z),\n",
        "                     zeros_noise_scale * torch.zeros(N_samp, ndim_tot - ndim_y - ndim_z),\n",
        "                     y_samps], dim=1)\n",
        "y_samps = y_samps.to(device)\n",
        "\n",
        "f_loss_latent = 0\n",
        "fll = 0\n",
        "f_loss_fit = 0\n",
        "flf = 0\n",
        "b_loss_backward = 0\n",
        "blb = 0\n",
        "b_loss_fit = 0\n",
        "blf = 0\n",
        "t_loss = 0\n",
        "tl = 0\n",
        "it_loss = 0\n",
        "it = 0\n",
        "\n",
        "try:\n",
        "    t_start = time()\n",
        "    for i_epoch in tqdm(range(n_epochs), ascii=True, ncols=80):\n",
        "\n",
        "        fll, flf, blb, blf, tl, it = train(i_epoch)\n",
        "\n",
        "        f_loss_latent = np.append(f_loss_latent, fll)\n",
        "        f_loss_fit = np.append(f_loss_fit, flf)\n",
        "        b_loss_backward = np.append(b_loss_backward, blb)\n",
        "        b_loss_fit = np.append(b_loss_fit, blf)\n",
        "        t_loss = np.append(t_loss, tl)\n",
        "        it_loss = np.append(it_loss, it)\n",
        "\n",
        "    # Sample the trained model\n",
        "    rev_x, _ = model(y_samps, rev=True)\n",
        "    rev_x = rev_x.cpu().data.numpy()\n",
        "\n",
        "    pred_nrgs, _ = model(torch.cat((x_samps, torch.zeros(N_samp, ndim_tot - ndim_x)),\n",
        "                              dim=1).to(device))\n",
        "    pred_nrgs_clean = pred_nrgs.data[:, -ndim_y:]\n",
        "    rev_x_clean = rev_x[:, :ndim_x]\n",
        "\n",
        "    pred_nrgs = pred_nrgs.cpu().data.numpy()\n",
        "    pred_nrgs_clean = pred_nrgs_clean.cpu().data.numpy()\n",
        "\n",
        "except KeyboardInterrupt:\n",
        "    pass\n",
        "finally:\n",
        "    print(f\"\\n\\nTraining time: {(time()-t_start)/60:.2f} minutes\\n\")"
      ]
    },
    {
      "cell_type": "markdown",
      "source": [
        "## Loss"
      ],
      "metadata": {
        "id": "7x1RdaQYbE7R"
      }
    },
    {
      "cell_type": "code",
      "source": [
        "f, axarr = plt.subplots(2, 3, figsize=(10,5))\n",
        "\n",
        "axarr[0,0].plot(it_loss[125:5000])\n",
        "axarr[1,0].plot(t_loss[25:100])\n",
        "axarr[0,1].plot(f_loss_latent[25:100])\n",
        "axarr[1,1].plot(f_loss_fit[25:100])\n",
        "axarr[0,2].plot(b_loss_backward[25:100])\n",
        "axarr[1,2].plot(b_loss_fit[65:100])"
      ],
      "metadata": {
        "colab": {
          "base_uri": "https://localhost:8080/",
          "height": 468
        },
        "id": "DX7GQcuMQEHX",
        "outputId": "a720eb8e-4395-41d8-ab86-723d50219c77"
      },
      "execution_count": 21,
      "outputs": [
        {
          "output_type": "execute_result",
          "data": {
            "text/plain": [
              "[<matplotlib.lines.Line2D at 0x7b07e267e500>]"
            ]
          },
          "metadata": {},
          "execution_count": 21
        },
        {
          "output_type": "display_data",
          "data": {
            "text/plain": [
              "<Figure size 1000x500 with 6 Axes>"
            ],
            "image/png": "[encoded data removed]"
          },
          "metadata": {}
        }
      ]
    },
    {
      "cell_type": "code",
      "source": [
        "# This stop the code from running past this point so that \"Run all\" can be used\n",
        "1/0"
      ],
      "metadata": {
        "colab": {
          "base_uri": "https://localhost:8080/",
          "height": 166
        },
        "id": "7z7CkIsPILMP",
        "outputId": "7be763a2-2609-435c-b96f-513b32cead66"
      },
      "execution_count": 13,
      "outputs": [
        {
          "output_type": "error",
          "ename": "ZeroDivisionError",
          "evalue": "division by zero",
          "traceback": [
            "\u001b[0;31m---------------------------------------------------------------------------\u001b[0m",
            "\u001b[0;31mZeroDivisionError\u001b[0m                         Traceback (most recent call last)",
            "\u001b[0;32m<ipython-input-13-08dd8f4f4b0b>\u001b[0m in \u001b[0;36m<cell line: 2>\u001b[0;34m()\u001b[0m\n\u001b[1;32m      1\u001b[0m \u001b[0;31m# This stop the code from running past this point so that \"Run all\" can be used\u001b[0m\u001b[0;34m\u001b[0m\u001b[0;34m\u001b[0m\u001b[0m\n\u001b[0;32m----> 2\u001b[0;31m \u001b[0;36m1\u001b[0m\u001b[0;34m/\u001b[0m\u001b[0;36m0\u001b[0m\u001b[0;34m\u001b[0m\u001b[0;34m\u001b[0m\u001b[0m\n\u001b[0m",
            "\u001b[0;31mZeroDivisionError\u001b[0m: division by zero"
          ]
        }
      ]
    },
    {
      "cell_type": "markdown",
      "source": [
        "## Test normalizing direction (laser parameters to proton energies)"
      ],
      "metadata": {
        "id": "3jTM0Ea31m--"
      }
    },
    {
      "cell_type": "markdown",
      "source": [
        "## Test generative direction (proton energies to laser parameters)"
      ],
      "metadata": {
        "id": "Nn7eS2C23QiI"
      }
    },
    {
      "cell_type": "markdown",
      "source": [
        "## Save"
      ],
      "metadata": {
        "id": "7YqsxzUzbvE3"
      }
    },
    {
      "cell_type": "markdown",
      "source": [
        "Save model"
      ],
      "metadata": {
        "id": "2iyHXFQgKfen"
      }
    },
    {
      "cell_type": "code",
      "source": [
        "torch.save(model.state_dict(), 't2')"
      ],
      "metadata": {
        "id": "EnuP7rITKeQv"
      },
      "execution_count": 22,
      "outputs": []
    },
    {
      "cell_type": "markdown",
      "source": [
        "Save losses"
      ],
      "metadata": {
        "id": "uhwbIorSLW3Y"
      }
    },
    {
      "cell_type": "code",
      "source": [
        "np.save('f_loss_latent', f_loss_latent)\n",
        "np.save('f_loss_fit', f_loss_fit)\n",
        "np.save('b_loss_backward', b_loss_backward)\n",
        "np.save('b_loss_fit', b_loss_fit)\n",
        "np.save('t_loss', t_loss)\n",
        "np.save('it_loss', it_loss)"
      ],
      "metadata": {
        "id": "y-_nMfz2LV0r"
      },
      "execution_count": 23,
      "outputs": []
    },
    {
      "cell_type": "markdown",
      "source": [
        "Save samples"
      ],
      "metadata": {
        "id": "gQWxr6_Krb2E"
      }
    },
    {
      "cell_type": "code",
      "source": [
        "np.save('rev_x_clean', rev_x_clean)\n",
        "np.save('pred_nrgs_clean', pred_nrgs_clean)\n",
        "np.save('x_samps_clean', x_samps_clean)\n",
        "np.save('y_samps_clean', y_samps_clean)"
      ],
      "metadata": {
        "id": "wRZWzzgArdsN"
      },
      "execution_count": 27,
      "outputs": []
    },
    {
      "cell_type": "markdown",
      "source": [
        "## Load & Sample"
      ],
      "metadata": {
        "id": "i2QmAS9ex_oW"
      }
    },
    {
      "cell_type": "markdown",
      "source": [
        "Dependencies"
      ],
      "metadata": {
        "id": "W19wUwTvyrtn"
      }
    },
    {
      "cell_type": "code",
      "source": [
        "pip install FrEIA"
      ],
      "metadata": {
        "id": "r8W_Stx0yqxR"
      },
      "execution_count": null,
      "outputs": []
    },
    {
      "cell_type": "code",
      "source": [
        "%matplotlib inline\n",
        "from time import time\n",
        "\n",
        "import torch\n",
        "import torch.nn as nn\n",
        "import torch.optim\n",
        "import numpy as np\n",
        "import matplotlib.pyplot as plt\n",
        "from tqdm import tqdm\n",
        "import pandas as pd\n",
        "\n",
        "from FrEIA.framework import InputNode, OutputNode, Node, ReversibleGraphNet\n",
        "from FrEIA.modules import GLOWCouplingBlock, PermuteRandom, InvertibleSigmoid, AllInOneBlock\n",
        "\n",
        "\n",
        "device = 'cuda' if torch.cuda.is_available() else 'cpu'"
      ],
      "metadata": {
        "id": "mhOJd928zuhm"
      },
      "execution_count": null,
      "outputs": []
    },
    {
      "cell_type": "markdown",
      "source": [
        "Load model"
      ],
      "metadata": {
        "id": "Nqo0F4S8yFYM"
      }
    },
    {
      "cell_type": "code",
      "source": [
        "ndim_tot = 12\n",
        "ndim_x = 2\n",
        "ndim_y = 2\n",
        "ndim_z = 6\n",
        "\n",
        "def subnet_fc(c_in, c_out):\n",
        "    return nn.Sequential(nn.Linear(c_in, 512), nn.ReLU(),\n",
        "                         nn.Linear(512,  c_out))\n",
        "\n",
        "nodes = [InputNode(ndim_tot, name='input')]\n",
        "\n",
        "for k in range(8):\n",
        "    nodes.append(Node(nodes[-1],\n",
        "                      GLOWCouplingBlock,\n",
        "                      {'subnet_constructor':subnet_fc, 'clamp':2.0},\n",
        "                      name=F'coupling_{k}'))\n",
        "    nodes.append(Node(nodes[-1],\n",
        "                      PermuteRandom,\n",
        "                      {'seed':k},\n",
        "                      name=F'permute_{k}'))\n",
        "\n",
        "nodes.append(OutputNode(nodes[-1], name='output'))\n",
        "\n",
        "model = ReversibleGraphNet(nodes, verbose=False)\n",
        "\n",
        "model.load_state_dict(torch.load('t1', map_location=torch.device('cpu')))\n",
        "model.eval()"
      ],
      "metadata": {
        "id": "VhDTHp_YyO7z"
      },
      "execution_count": null,
      "outputs": []
    },
    {
      "cell_type": "markdown",
      "source": [
        "Load data"
      ],
      "metadata": {
        "id": "74BYsxqLyvoE"
      }
    },
    {
      "cell_type": "code",
      "source": [
        "df = pd.read_csv('data_noise0.csv')\n",
        "\n",
        "l1 = list(df['Focal_Distance_(um)'])\n",
        "l3 = list(df['Target_Thickness (um)'])\n",
        "lx = list(zip(l1, l3))\n",
        "x = torch.tensor(lx)\n",
        "x_train = x[:20000]\n",
        "x_test = x[20000:]\n",
        "\n",
        "l1 = list(df['Avg_Proton_Energy_(MeV)'])\n",
        "l2 = list(df['Max_Proton_Energy_(MeV)'])\n",
        "ly = list(zip(l1, l2))\n",
        "y = torch.tensor(ly)\n",
        "y_train = y[:20000]\n",
        "y_test = y[20000:]\n",
        "\n",
        "batch_size = 400\n",
        "\n",
        "test_loader = torch.utils.data.DataLoader(\n",
        "    torch.utils.data.TensorDataset(x_test, y_test),\n",
        "    batch_size=batch_size, shuffle=True, drop_last=True)\n",
        "\n",
        "train_loader = torch.utils.data.DataLoader(\n",
        "    torch.utils.data.TensorDataset(x_train, y_train),\n",
        "    batch_size=batch_size, shuffle=True, drop_last=True)"
      ],
      "metadata": {
        "id": "XxuJfC_7yyEe"
      },
      "execution_count": null,
      "outputs": []
    },
    {
      "cell_type": "code",
      "source": [
        "y_test.shape"
      ],
      "metadata": {
        "id": "p3wa2Wl97eC0"
      },
      "execution_count": null,
      "outputs": []
    },
    {
      "cell_type": "markdown",
      "source": [
        "Load losses"
      ],
      "metadata": {
        "id": "9tr2d1Jt0Hqe"
      }
    },
    {
      "cell_type": "code",
      "source": [
        "#f_loss_latent = np.load('f_loss_latent.npy')\n",
        "#f_loss_fit = np.load('f_loss_fit.npy')\n",
        "#b_loss_backward = np.load('b_loss_backward.npy')\n",
        "#b_loss_fit = np.load('b_loss_fit.npy')\n",
        "#t_loss = np.load('t_loss.npy')\n",
        "#it_loss = np.load('it_loss.npy')"
      ],
      "metadata": {
        "id": "z6ktmy160IAK"
      },
      "execution_count": null,
      "outputs": []
    },
    {
      "cell_type": "markdown",
      "source": [
        "Sample model"
      ],
      "metadata": {
        "id": "cYmpnmWUzXRP"
      }
    },
    {
      "cell_type": "code",
      "source": [
        "y_noise_scale = 1e-1\n",
        "zeros_noise_scale = 5e-2\n",
        "pad_x = torch.zeros(batch_size, ndim_tot - ndim_x)\n",
        "pad_yz = torch.zeros(batch_size, ndim_tot - ndim_y - ndim_z)\n",
        "\n",
        "model.to(device)\n",
        "\n",
        "N_samp = 4800\n",
        "\n",
        "x_samps = torch.cat([x for x,y in test_loader], dim=0)[:N_samp]\n",
        "x_samps_clean = x_samps\n",
        "y_samps = torch.cat([y for x,y in test_loader], dim=0)[:N_samp]\n",
        "y_samps_clean = y_samps\n",
        "y_samps += y_noise_scale * torch.randn(N_samp, ndim_y)\n",
        "y_samps = torch.cat([torch.randn(N_samp, ndim_z),\n",
        "                     zeros_noise_scale * torch.zeros(N_samp, ndim_tot - ndim_y - ndim_z),\n",
        "                     y_samps], dim=1)\n",
        "y_samps = y_samps.to(device)\n",
        "\n",
        "rev_x, _ = model(y_samps, rev=True)\n",
        "rev_x = rev_x.cpu().data.numpy()\n",
        "\n",
        "pred_nrgs, _ = model(torch.cat((x_samps, torch.zeros(N_samp, ndim_tot - ndim_x)),\n",
        "                          dim=1).to(device))\n",
        "pred_nrgs_clean = pred_nrgs.data[:, -ndim_y:]\n",
        "rev_x_clean = rev_x[:, :ndim_x]\n",
        "\n",
        "pred_nrgs = pred_nrgs.cpu().data.numpy()"
      ],
      "metadata": {
        "id": "NjTbybPFzWYC"
      },
      "execution_count": 32,
      "outputs": []
    },
    {
      "cell_type": "markdown",
      "source": [
        "## Cross-validation"
      ],
      "metadata": {
        "id": "ILpXmLl5z-Wl"
      }
    },
    {
      "cell_type": "markdown",
      "source": [
        "Prep training set"
      ],
      "metadata": {
        "id": "mPnC-JUL43Dy"
      }
    },
    {
      "cell_type": "code",
      "source": [
        "N_samp = 4800\n",
        "\n",
        "y_train_samps = y_train[:N_samp]\n",
        "y_train_samps += y_noise_scale * torch.randn(N_samp, ndim_y)\n",
        "y_train_samps = torch.cat([torch.randn(N_samp, ndim_z),\n",
        "                     zeros_noise_scale * torch.zeros(N_samp, ndim_tot - ndim_y - ndim_z),\n",
        "                     y_train_samps], dim=1)\n",
        "y_train_samps = y_train_samps.to(device)\n",
        "\n",
        "rev_x_train, _ = model(y_train_samps, rev=True)\n",
        "rev_x_train = rev_x_train.cpu().data.numpy()\n",
        "rev_x_train_clean = rev_x_train[:, :ndim_x]"
      ],
      "metadata": {
        "id": "fcaByDFE46rZ"
      },
      "execution_count": 33,
      "outputs": []
    },
    {
      "cell_type": "markdown",
      "source": [
        "MSE of training set"
      ],
      "metadata": {
        "id": "NuLx5svu5p3d"
      }
    },
    {
      "cell_type": "code",
      "source": [
        "A, B = x_train.cpu().data.numpy()[:N_samp,1], rev_x_train_clean[:,1]\n",
        "mse = ((A - B)**2).mean()\n",
        "print(mse)"
      ],
      "metadata": {
        "colab": {
          "base_uri": "https://localhost:8080/"
        },
        "id": "auGgy9sT5qeZ",
        "outputId": "f0e84479-9b2c-4942-8aa5-2f90d57ebf48"
      },
      "execution_count": 34,
      "outputs": [
        {
          "output_type": "stream",
          "name": "stdout",
          "text": [
            "3.4765797\n"
          ]
        }
      ]
    },
    {
      "cell_type": "markdown",
      "source": [
        "MSE of validation set"
      ],
      "metadata": {
        "id": "qLqEgeVJ49B3"
      }
    },
    {
      "cell_type": "code",
      "source": [
        "A, B = x_samps_clean[:,1].cpu().data.numpy(), rev_x_clean[:,1]\n",
        "mse = ((A - B)**2).mean()\n",
        "print(mse)"
      ],
      "metadata": {
        "colab": {
          "base_uri": "https://localhost:8080/"
        },
        "id": "r27mfgNGz99B",
        "outputId": "2cc10550-6917-4858-e2a3-8842a5e255a1"
      },
      "execution_count": 35,
      "outputs": [
        {
          "output_type": "stream",
          "name": "stdout",
          "text": [
            "12.294456\n"
          ]
        }
      ]
    },
    {
      "cell_type": "code",
      "source": [],
      "metadata": {
        "id": "AfY0dudP96sh"
      },
      "execution_count": null,
      "outputs": []
    },
    {
      "cell_type": "code",
      "source": [],
      "metadata": {
        "id": "ts6GDeuc99wQ"
      },
      "execution_count": null,
      "outputs": []
    }
  ],
  "metadata": {
    "kernelspec": {
      "display_name": "Python 3",
      "name": "python3"
    },
    "language_info": {
      "codemirror_mode": {
        "name": "ipython",
        "version": 3
      },
      "file_extension": ".py",
      "mimetype": "text/x-python",
      "name": "python",
      "nbconvert_exporter": "python",
      "pygments_lexer": "ipython3",
      "version": "3.7.3"
    },
    "colab": {
      "provenance": [],
      "gpuType": "T4",
      "include_colab_link": true
    },
    "accelerator": "GPU"
  },
  "nbformat": 4,
  "nbformat_minor": 0
}