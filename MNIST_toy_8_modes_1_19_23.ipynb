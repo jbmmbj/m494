{
  "cells": [
    {
      "cell_type": "markdown",
      "metadata": {
        "id": "view-in-github",
        "colab_type": "text"
      },
      "source": [
        "<a href=\"https://colab.research.google.com/github/jbmmbj/m494/blob/main/MNIST_toy_8_modes_1_19_23.ipynb\" target=\"_parent\"><img src=\"https://colab.research.google.com/assets/colab-badge.svg\" alt=\"Open In Colab\"/></a>"
      ]
    },
    {
      "cell_type": "markdown",
      "source": [
        "\n",
        "\"Toy Data: 8-Modes Mixture Model\"\n",
        "\n",
        "Source of original code: https://github.com/vislearn/analyzing_inverse_problems/blob/master/toy_8-modes/toy_8-modes.ipynb\n",
        "\n",
        "# **FIXED & adapted to MNIST data**"
      ],
      "metadata": {
        "id": "NxQeZRRitPaO"
      }
    },
    {
      "cell_type": "markdown",
      "source": [
        "\n",
        "\n",
        "\n",
        "The code has been fixed to accomodate outdated versions of dependencies. Of note is the FrEIA module ReversibleGraphNet, which was modified by the developers to output a tuple of the transformed variable and the log Jacobian determinant. (The developers later depreciated ReversibleGraphNet in favor of GraphINN.) ReversibleGraphNet still works in this model, but the code had to be modified to ignore the variable assignment of the log Jacobian determinant output.\n",
        "\n",
        "Additionally, there was an error in the optimization step. Some of the model parameters are NaN (NoneType) which prevents backpropagation. Relatively few of the model parameters have this problem, so the code was modified to simply ignore these parameters. This issue may be related to the fix mentioned above regarding the log Jacobian determinant. However, the log Jacobian determinant is not a trainable parameter. Nonetheless, the original model trains and outputs as expected with these changes made.\n",
        "\n",
        "-----------------------------------------\n",
        "\n",
        "The code has been changed to model MNIST data. These changes include pre/post processing of MNIST data, updated names and dimensions of variables, deletion of code to plot during training, and an increased number of iterations per epoch."
      ],
      "metadata": {
        "id": "_SqFpN2al-fH"
      }
    },
    {
      "cell_type": "markdown",
      "metadata": {
        "id": "28x4oB1IcO3-"
      },
      "source": [
        "## Introduction\n",
        "\n",
        "**Text from cited authors (may not be accurate):**\n",
        "\n",
        "\"This notebook is supposed to demonstrate how to use FrEIA to create reversible architectures.\n",
        "\n",
        "We will use the toy data from the paper in this example.\""
      ]
    },
    {
      "cell_type": "code",
      "source": [
        "pip install FrEIA"
      ],
      "metadata": {
        "id": "J_aO4rZ6cVia",
        "colab": {
          "base_uri": "https://localhost:8080/"
        },
        "outputId": "b9e2432c-bbec-4baa-d022-97b47e0b39a7"
      },
      "execution_count": null,
      "outputs": [
        {
          "output_type": "stream",
          "name": "stdout",
          "text": [
            "Collecting FrEIA\n",
            "  Downloading FrEIA-0.2.tar.gz (34 kB)\n",
            "  Preparing metadata (setup.py) ... \u001b[?25l\u001b[?25hdone\n",
            "Requirement already satisfied: numpy>=1.15.0 in /usr/local/lib/python3.10/dist-packages (from FrEIA) (1.23.5)\n",
            "Requirement already satisfied: scipy>=1.5 in /usr/local/lib/python3.10/dist-packages (from FrEIA) (1.11.4)\n",
            "Requirement already satisfied: torch>=1.0.0 in /usr/local/lib/python3.10/dist-packages (from FrEIA) (2.1.0+cu121)\n",
            "Requirement already satisfied: filelock in /usr/local/lib/python3.10/dist-packages (from torch>=1.0.0->FrEIA) (3.13.1)\n",
            "Requirement already satisfied: typing-extensions in /usr/local/lib/python3.10/dist-packages (from torch>=1.0.0->FrEIA) (4.5.0)\n",
            "Requirement already satisfied: sympy in /usr/local/lib/python3.10/dist-packages (from torch>=1.0.0->FrEIA) (1.12)\n",
            "Requirement already satisfied: networkx in /usr/local/lib/python3.10/dist-packages (from torch>=1.0.0->FrEIA) (3.2.1)\n",
            "Requirement already satisfied: jinja2 in /usr/local/lib/python3.10/dist-packages (from torch>=1.0.0->FrEIA) (3.1.3)\n",
            "Requirement already satisfied: fsspec in /usr/local/lib/python3.10/dist-packages (from torch>=1.0.0->FrEIA) (2023.6.0)\n",
            "Requirement already satisfied: triton==2.1.0 in /usr/local/lib/python3.10/dist-packages (from torch>=1.0.0->FrEIA) (2.1.0)\n",
            "Requirement already satisfied: MarkupSafe>=2.0 in /usr/local/lib/python3.10/dist-packages (from jinja2->torch>=1.0.0->FrEIA) (2.1.3)\n",
            "Requirement already satisfied: mpmath>=0.19 in /usr/local/lib/python3.10/dist-packages (from sympy->torch>=1.0.0->FrEIA) (1.3.0)\n",
            "Building wheels for collected packages: FrEIA\n",
            "  Building wheel for FrEIA (setup.py) ... \u001b[?25l\u001b[?25hdone\n",
            "  Created wheel for FrEIA: filename=FrEIA-0.2-py3-none-any.whl size=42759 sha256=9d463f54bda971bcf8990882f113fb3684577c4ddd12b5749b0e04d99f9f8c72\n",
            "  Stored in directory: /root/.cache/pip/wheels/81/a8/e2/d532a76f72108ac4a340cbe3f86b4f591abfdbd75209a5badb\n",
            "Successfully built FrEIA\n",
            "Installing collected packages: FrEIA\n",
            "Successfully installed FrEIA-0.2\n"
          ]
        }
      ]
    },
    {
      "cell_type": "code",
      "execution_count": null,
      "metadata": {
        "id": "M0yP1z3DcO3_"
      },
      "outputs": [],
      "source": [
        "%matplotlib inline\n",
        "from time import time\n",
        "\n",
        "import torch\n",
        "import torch.nn as nn\n",
        "import torch.optim\n",
        "import numpy as np\n",
        "import matplotlib.pyplot as plt\n",
        "from tqdm import tqdm\n",
        "\n",
        "from FrEIA.framework import InputNode, OutputNode, Node, ReversibleGraphNet\n",
        "from FrEIA.modules import GLOWCouplingBlock, PermuteRandom, InvertibleSigmoid, AllInOneBlock\n",
        "\n",
        "\n",
        "device = 'cuda' if torch.cuda.is_available() else 'cpu'"
      ]
    },
    {
      "cell_type": "markdown",
      "metadata": {
        "id": "70hn2hzRcO4A"
      },
      "source": [
        "## Setting up the data\n",
        "\n",
        "**Text from cited authors (may not be accurate):**\n",
        "\n",
        "\"We generate the data by sampling from a Gaussian mixture distribution with 8 labeled modes. The dataset will contain $2^{20}$ samples, $10000$ of which we will use for testing purposes.\n",
        "\n",
        "You can see a plot of the test data below.\n",
        "\n",
        "In the forward process our model is supposed to predict the label (or in this case, color) of a sample based on its position in $\\mathbb{R}^2$. In the reverse direction the model should allow us to sample from the mixture component given by a label.\""
      ]
    },
    {
      "cell_type": "code",
      "execution_count": null,
      "metadata": {
        "id": "eVwcpZxNcO4A"
      },
      "outputs": [],
      "source": [
        "batch_size = 1200\n",
        "test_split = 10000"
      ]
    },
    {
      "cell_type": "markdown",
      "source": [
        "Load MNIST data"
      ],
      "metadata": {
        "id": "tjQP964vgRi8"
      }
    },
    {
      "cell_type": "code",
      "source": [
        "import keras\n",
        "(x_train, y_train), (x_test, y_test) = keras.datasets.mnist.load_data()"
      ],
      "metadata": {
        "id": "YPuuhyqQSSK4",
        "colab": {
          "base_uri": "https://localhost:8080/"
        },
        "outputId": "da89805e-ba7f-4fbf-e766-6dffc33e79c2"
      },
      "execution_count": null,
      "outputs": [
        {
          "output_type": "stream",
          "name": "stdout",
          "text": [
            "Downloading data from https://storage.googleapis.com/tensorflow/tf-keras-datasets/mnist.npz\n",
            "11490434/11490434 [==============================] - 0s 0us/step\n"
          ]
        }
      ]
    },
    {
      "cell_type": "code",
      "source": [
        "x_train_t = torch.tensor(x_train)\n",
        "x_train_flat = torch.flatten(x_train_t, 1, 2)\n",
        "x_train_flat = x_train_flat / 255\n",
        "x_test_t = torch.tensor(x_test)\n",
        "x_test_flat = torch.flatten(x_test_t, 1, 2)\n",
        "x_test_flat = x_test_flat / 255"
      ],
      "metadata": {
        "id": "2ATII1xYT8bd"
      },
      "execution_count": null,
      "outputs": []
    },
    {
      "cell_type": "markdown",
      "source": [
        "One-hot encode labels"
      ],
      "metadata": {
        "id": "nNafZRdogIsS"
      }
    },
    {
      "cell_type": "code",
      "source": [
        "y_train_t = torch.tensor(y_train)\n",
        "y_test_t = torch.tensor(y_test)\n",
        "\n",
        "zero = torch.tensor([1,0,0,0,0,0,0,0,0,0])\n",
        "one = torch.tensor([0,1,0,0,0,0,0,0,0,0])\n",
        "two = torch.tensor([0,0,1,0,0,0,0,0,0,0])\n",
        "three = torch.tensor([0,0,0,1,0,0,0,0,0,0])\n",
        "four = torch.tensor([0,0,0,0,1,0,0,0,0,0])\n",
        "five = torch.tensor([0,0,0,0,0,1,0,0,0,0])\n",
        "six = torch.tensor([0,0,0,0,0,0,1,0,0,0])\n",
        "seven = torch.tensor([0,0,0,0,0,0,0,1,0,0])\n",
        "eight = torch.tensor([0,0,0,0,0,0,0,0,1,0])\n",
        "nine = torch.tensor([0,0,0,0,0,0,0,0,0,1])"
      ],
      "metadata": {
        "id": "rQ5xMfKwjEjY"
      },
      "execution_count": null,
      "outputs": []
    },
    {
      "cell_type": "code",
      "source": [
        "y_train_empty = torch.empty(60000, 10)\n",
        "\n",
        "for i in range(len(y_train_t)):\n",
        "  if y_train_t[i] == 0:\n",
        "    y_train_empty[i] = zero\n",
        "  elif y_train_t[i] == 1:\n",
        "    y_train_empty[i] = one\n",
        "  elif y_train_t[i] == 2:\n",
        "    y_train_empty[i] = two\n",
        "  elif y_train_t[i] == 3:\n",
        "    y_train_empty[i] = three\n",
        "  elif y_train_t[i] == 4:\n",
        "    y_train_empty[i] = four\n",
        "  elif y_train_t[i] == 5:\n",
        "    y_train_empty[i] = five\n",
        "  elif y_train_t[i] == 6:\n",
        "    y_train_empty[i] = six\n",
        "  elif y_train_t[i] == 7:\n",
        "    y_train_empty[i] = seven\n",
        "  elif y_train_t[i] == 8:\n",
        "    y_train_empty[i] = eight\n",
        "  elif y_train_t[i] == 9:\n",
        "    y_train_empty[i] = nine\n",
        "\n",
        "y_train_1hot = y_train_empty"
      ],
      "metadata": {
        "id": "Y4QbLfQobZuZ"
      },
      "execution_count": null,
      "outputs": []
    },
    {
      "cell_type": "code",
      "source": [
        "y_test_empty = torch.empty(10000, 10)\n",
        "\n",
        "for i in range(len(y_test_t)):\n",
        "  if y_test_t[i] == 0:\n",
        "    y_test_empty[i] = zero\n",
        "  elif y_test_t[i] == 1:\n",
        "    y_test_empty[i] = one\n",
        "  elif y_test_t[i] == 2:\n",
        "    y_test_empty[i] = two\n",
        "  elif y_test_t[i] == 3:\n",
        "    y_test_empty[i] = three\n",
        "  elif y_test_t[i] == 4:\n",
        "    y_test_empty[i] = four\n",
        "  elif y_test_t[i] == 5:\n",
        "    y_test_empty[i] = five\n",
        "  elif y_test_t[i] == 6:\n",
        "    y_test_empty[i] = six\n",
        "  elif y_test_t[i] == 7:\n",
        "    y_test_empty[i] = seven\n",
        "  elif y_test_t[i] == 8:\n",
        "    y_test_empty[i] = eight\n",
        "  elif y_test_t[i] == 9:\n",
        "    y_test_empty[i] = nine\n",
        "\n",
        "y_test_1hot = y_test_empty"
      ],
      "metadata": {
        "id": "G2YRl09Gu0EH"
      },
      "execution_count": null,
      "outputs": []
    },
    {
      "cell_type": "markdown",
      "metadata": {
        "id": "CDYfLsmjcO4B"
      },
      "source": [
        "## Setting up the model\n",
        "\n",
        "**Text from cited authors (may not be accurate):**\n",
        "\n",
        "\"Our model consists of three invertible blocks using multiplicative coupling layers and 3-layer fully connected sub-networks for $s_i$ and $t_i$. The input is encoded in 2 dimensions. The latent dimension $z$ is set to 2 and concatenated with the predicted labels $y$ encoded as a 8-dimensional one-hot vector. In- and output are zero-padded to 16 dimensions.\""
      ]
    },
    {
      "cell_type": "code",
      "execution_count": null,
      "metadata": {
        "id": "JBat-Ns6cO4C"
      },
      "outputs": [],
      "source": [
        "ndim_tot = 800\n",
        "ndim_x = 784\n",
        "ndim_y = 10\n",
        "ndim_z = 784\n",
        "\n",
        "def subnet_fc(c_in, c_out):\n",
        "    return nn.Sequential(nn.Linear(c_in, 512), nn.ReLU(),\n",
        "                         nn.Linear(512,  c_out))\n",
        "\n",
        "nodes = [InputNode(ndim_tot, name='input')]\n",
        "\n",
        "for k in range(8):\n",
        "    nodes.append(Node(nodes[-1],\n",
        "                      GLOWCouplingBlock,\n",
        "                      {'subnet_constructor':subnet_fc, 'clamp':2.0},\n",
        "                      name=F'coupling_{k}'))\n",
        "    nodes.append(Node(nodes[-1],\n",
        "                      PermuteRandom,\n",
        "                      {'seed':k},\n",
        "                      name=F'permute_{k}'))\n",
        "\n",
        "nodes.append(OutputNode(nodes[-1], name='output'))\n",
        "\n",
        "model = ReversibleGraphNet(nodes, verbose=False)"
      ]
    },
    {
      "cell_type": "markdown",
      "metadata": {
        "id": "whQvWzdQcO4C"
      },
      "source": [
        "## Training the model\n",
        "\n",
        "**Text from cited authors (may not be accurate):**\n",
        "\n",
        "\"We will train our model using 3 losses. In the forward direction we apply a MSE loss to the assigned label and a distributional loss to the latent variable $z$.\n",
        "We make use of the reversability of our model and apply a third loss, that matches the distribution of samples from our dataset to the distribution of backward predictions of our model.\n",
        "You can find more information on the losses in the [paper](https://arxiv.org/abs/1808.04730).\""
      ]
    },
    {
      "cell_type": "code",
      "execution_count": null,
      "metadata": {
        "id": "KnJ37bgXcO4C"
      },
      "outputs": [],
      "source": [
        "# Training parameters\n",
        "n_epochs = 50\n",
        "n_its_per_epoch = 64\n",
        "batch_size = 1200\n",
        "\n",
        "lr = 1e-3\n",
        "l2_reg = 2e-5\n",
        "\n",
        "y_noise_scale = 1e-1\n",
        "zeros_noise_scale = 5e-2\n",
        "\n",
        "# relative weighting of losses:\n",
        "lambd_predict = 3.\n",
        "lambd_latent = 300.\n",
        "lambd_rev = 400.\n",
        "\n",
        "pad_x = torch.zeros(batch_size, ndim_tot - ndim_x)\n",
        "pad_yz = torch.zeros(batch_size, ndim_tot - ndim_y - ndim_z)\n",
        "\n",
        "trainable_parameters = [p for p in model.parameters() if p.requires_grad]\n",
        "optimizer = torch.optim.Adam(trainable_parameters, lr=lr, betas=(0.8, 0.9),\n",
        "                             eps=1e-6, weight_decay=l2_reg)\n",
        "\n",
        "\n",
        "def MMD_multiscale(x, y):\n",
        "    xx, yy, zz = torch.mm(x,x.t()), torch.mm(y,y.t()), torch.mm(x,y.t())\n",
        "\n",
        "    rx = (xx.diag().unsqueeze(0).expand_as(xx))\n",
        "    ry = (yy.diag().unsqueeze(0).expand_as(yy))\n",
        "\n",
        "    dxx = rx.t() + rx - 2.*xx\n",
        "    dyy = ry.t() + ry - 2.*yy\n",
        "    dxy = rx.t() + ry - 2.*zz\n",
        "\n",
        "    XX, YY, XY = (torch.zeros(xx.shape).to(device),\n",
        "                  torch.zeros(xx.shape).to(device),\n",
        "                  torch.zeros(xx.shape).to(device))\n",
        "\n",
        "    for a in [0.05, 0.2, 0.9]:\n",
        "        XX += a**2 * (a**2 + dxx)**-1\n",
        "        YY += a**2 * (a**2 + dyy)**-1\n",
        "        XY += a**2 * (a**2 + dxy)**-1\n",
        "\n",
        "    return torch.mean(XX + YY - 2.*XY)\n",
        "\n",
        "\n",
        "def fit(input, target):\n",
        "    return torch.mean((input - target)**2)\n",
        "\n",
        "loss_backward = MMD_multiscale\n",
        "loss_latent = MMD_multiscale\n",
        "loss_fit = fit\n",
        "\n",
        "test_loader = torch.utils.data.DataLoader(\n",
        "    torch.utils.data.TensorDataset(x_test_flat, y_test_1hot),\n",
        "    batch_size=batch_size, shuffle=True, drop_last=True)\n",
        "\n",
        "train_loader = torch.utils.data.DataLoader(\n",
        "    torch.utils.data.TensorDataset(x_train_flat, y_train_1hot),\n",
        "    batch_size=batch_size, shuffle=True, drop_last=True)"
      ]
    },
    {
      "cell_type": "markdown",
      "metadata": {
        "id": "qspFPBKHcO4C"
      },
      "source": [
        "\n",
        "**Text from cited authors (may not be accurate):**\n",
        "\n",
        "\"We can now define our training method. Note how we simply used the model for forward training, zeroed the gradients and switch to backwards training simply by setting `rev=True`. Randomness in the samples generated by backwards prediction is achieved by drawing $z$ randomly from a 2-dimensional Normal distribution.\""
      ]
    },
    {
      "cell_type": "code",
      "execution_count": null,
      "metadata": {
        "id": "3gZOUx5wcO4D"
      },
      "outputs": [],
      "source": [
        "def train(i_epoch=0):\n",
        "    model.train()\n",
        "\n",
        "    l_tot = 0\n",
        "    batch_idx = 0\n",
        "\n",
        "    t_start = time()\n",
        "\n",
        "    # If MMD on x-space is present from the start, the model can get stuck.\n",
        "    # Instead, ramp it up exponetially.\n",
        "    loss_factor = min(1., 2. * 0.002**(1. - (float(i_epoch) / n_epochs)))\n",
        "\n",
        "    for x, y in train_loader:\n",
        "        batch_idx += 1\n",
        "        if batch_idx > n_its_per_epoch:\n",
        "            break\n",
        "\n",
        "        x, y = x.to(device), y.to(device)\n",
        "\n",
        "        y_clean = y.clone()\n",
        "        pad_x = zeros_noise_scale * torch.randn(batch_size, ndim_tot -\n",
        "                                                ndim_x, device=device)\n",
        "        pad_yz = zeros_noise_scale * torch.randn(batch_size, ndim_tot -\n",
        "                                                 ndim_y - ndim_z, device=device)\n",
        "\n",
        "        y += y_noise_scale * torch.randn(batch_size, ndim_y, dtype=torch.float, device=device)\n",
        "\n",
        "        x, y = (torch.cat((x, pad_x),  dim=1),\n",
        "                torch.cat((torch.randn(batch_size, ndim_z, device=device), pad_yz, y),\n",
        "                          dim=1))\n",
        "\n",
        "\n",
        "        optimizer.zero_grad()\n",
        "\n",
        "        # Forward step:\n",
        "\n",
        "        output, _ = model(x)\n",
        "\n",
        "        # Shorten output, and remove gradients wrt y, for latent loss\n",
        "        y_short = torch.cat((y[:, :ndim_z], y[:, -ndim_y:]), dim=1)\n",
        "\n",
        "        l = lambd_predict * loss_fit(output[:, ndim_z:], y[:, ndim_z:])\n",
        "\n",
        "        output_block_grad = torch.cat((output[:, :ndim_z],\n",
        "                                       output[:, -ndim_y:].data), dim=1)\n",
        "\n",
        "        l += lambd_latent * loss_latent(output_block_grad, y_short)\n",
        "        l_tot += l.data.item()\n",
        "\n",
        "        l.backward()\n",
        "\n",
        "        # Backward step:\n",
        "        pad_yz = zeros_noise_scale * torch.randn(batch_size, ndim_tot -\n",
        "                                                 ndim_y - ndim_z, device=device)\n",
        "        y = y_clean + y_noise_scale * torch.randn(batch_size, ndim_y, device=device)\n",
        "\n",
        "        orig_z_perturbed = (output.data[:, :ndim_z] + y_noise_scale *\n",
        "                            torch.randn(batch_size, ndim_z, device=device))\n",
        "        y_rev = torch.cat((orig_z_perturbed, pad_yz,\n",
        "                           y), dim=1)\n",
        "        y_rev_rand = torch.cat((torch.randn(batch_size, ndim_z, device=device), pad_yz,\n",
        "                                y), dim=1)\n",
        "\n",
        "        output_rev, _ = model(y_rev, rev=True)\n",
        "        output_rev_rand, _ = model(y_rev_rand, rev=True)\n",
        "\n",
        "        l_rev = (\n",
        "            lambd_rev\n",
        "            * loss_factor\n",
        "            * loss_backward(output_rev_rand[:, :ndim_x],\n",
        "                            x[:, :ndim_x])\n",
        "        )\n",
        "\n",
        "        l_rev += lambd_predict * loss_fit(output_rev, x)\n",
        "\n",
        "        l_tot += l_rev.data.item()\n",
        "\n",
        "        l_rev.backward()\n",
        "\n",
        "        for p in model.parameters():\n",
        "            if p.grad is not None:\n",
        "              p.grad.data.clamp_(-15.00, 15.00)\n",
        "\n",
        "        optimizer.step()\n",
        "\n",
        "    return l_tot / batch_idx"
      ]
    },
    {
      "cell_type": "markdown",
      "metadata": {
        "id": "iU9yU_fgcO4D"
      },
      "source": [
        "\n",
        "**Text from cited authors (may not be accurate):**\n",
        "\n",
        "\"We initialize our model parameters using normal distributions. The following loop over epochs plots label predictions and backwards predicted samples, so you can see the model getting better during training.\""
      ]
    },
    {
      "cell_type": "code",
      "execution_count": null,
      "metadata": {
        "scrolled": false,
        "id": "A4ZbAAT-cO4D",
        "colab": {
          "base_uri": "https://localhost:8080/"
        },
        "outputId": "9a18ffa8-7005-414e-e602-728d3dbceab2"
      },
      "outputs": [
        {
          "output_type": "stream",
          "name": "stderr",
          "text": [
            "100%|###########################################| 50/50 [06:25<00:00,  7.71s/it]"
          ]
        },
        {
          "output_type": "stream",
          "name": "stdout",
          "text": [
            "\n",
            "\n",
            "Training took 6.43 minutes\n",
            "\n"
          ]
        },
        {
          "output_type": "stream",
          "name": "stderr",
          "text": [
            "\n"
          ]
        }
      ],
      "source": [
        "for param in trainable_parameters:\n",
        "    param.data = 0.05*torch.randn_like(param)\n",
        "\n",
        "model.to(device)\n",
        "\n",
        "N_samp = 200\n",
        "\n",
        "x_samps = torch.cat([x for x,y in test_loader], dim=0)[:N_samp]\n",
        "y_samps = torch.cat([y for x,y in test_loader], dim=0)[:N_samp]\n",
        "c = np.where(y_samps)[1]\n",
        "y_samps += y_noise_scale * torch.randn(N_samp, ndim_y)\n",
        "y_samps = torch.cat([torch.randn(N_samp, ndim_z),\n",
        "                     zeros_noise_scale * torch.zeros(N_samp, ndim_tot - ndim_y - ndim_z),\n",
        "                     y_samps], dim=1)\n",
        "y_samps = y_samps.to(device)\n",
        "\n",
        "try:\n",
        "    t_start = time()\n",
        "    for i_epoch in tqdm(range(n_epochs), ascii=True, ncols=80):\n",
        "\n",
        "        train(i_epoch)\n",
        "\n",
        "        rev_x, _ = model(y_samps, rev=True)\n",
        "        rev_x = rev_x.cpu().data.numpy()\n",
        "\n",
        "        pred_num, _ = model(torch.cat((x_samps, torch.zeros(N_samp, ndim_tot - ndim_x)),\n",
        "                                 dim=1).to(device))\n",
        "        pred_num = pred_num.data[:, -10:].argmax(dim=1)\n",
        "\n",
        "\n",
        "\n",
        "except KeyboardInterrupt:\n",
        "    pass\n",
        "finally:\n",
        "    print(f\"\\n\\nTraining took {(time()-t_start)/60:.2f} minutes\\n\")"
      ]
    },
    {
      "cell_type": "code",
      "source": [
        "pred_num"
      ],
      "metadata": {
        "colab": {
          "base_uri": "https://localhost:8080/"
        },
        "id": "Sgw8uhWz50Xy",
        "outputId": "bb90fdf4-fd68-443c-a145-667abea85d6e"
      },
      "execution_count": null,
      "outputs": [
        {
          "output_type": "execute_result",
          "data": {
            "text/plain": [
              "tensor([4, 9, 2, 1, 7, 4, 1, 3, 0, 3, 9, 9, 6, 6, 3, 8, 0, 5, 7, 3, 3, 9, 4, 5,\n",
              "        2, 7, 6, 1, 8, 4, 6, 8, 7, 4, 8, 8, 6, 8, 5, 8, 9, 0, 2, 0, 6, 1, 8, 9,\n",
              "        4, 0, 5, 8, 4, 5, 9, 4, 4, 4, 1, 3, 1, 8, 8, 7, 3, 5, 5, 5, 2, 3, 4, 0,\n",
              "        2, 4, 7, 1, 2, 4, 1, 0, 5, 2, 9, 7, 9, 0, 8, 0, 9, 9, 8, 4, 8, 1, 2, 7,\n",
              "        9, 8, 7, 0, 8, 2, 3, 2, 0, 4, 6, 0, 3, 5, 1, 2, 9, 8, 4, 1, 5, 4, 5, 6,\n",
              "        7, 5, 9, 9, 3, 8, 8, 6, 8, 7, 7, 4, 0, 6, 5, 7, 1, 3, 1, 6, 9, 2, 2, 3,\n",
              "        3, 2, 7, 6, 5, 0, 0, 7, 5, 7, 2, 3, 8, 1, 7, 8, 5, 4, 4, 8, 9, 2, 7, 5,\n",
              "        3, 3, 6, 5, 3, 8, 2, 1, 0, 3, 5, 3, 0, 4, 4, 2, 5, 8, 7, 4, 7, 2, 0, 5,\n",
              "        3, 7, 9, 0, 6, 5, 5, 1], device='cuda:0')"
            ]
          },
          "metadata": {},
          "execution_count": 213
        }
      ]
    },
    {
      "cell_type": "code",
      "source": [
        "x_samps_unflat = torch.unflatten(x_samps, 1, (28,28))"
      ],
      "metadata": {
        "id": "AMahkWeCd6x5"
      },
      "execution_count": null,
      "outputs": []
    },
    {
      "cell_type": "code",
      "source": [
        "from matplotlib import pyplot\n",
        "\n",
        "for i in range(9):\n",
        "  pyplot.subplot(330 + 1 + i)\n",
        "  pyplot.imshow(x_samps_unflat[i].numpy(), cmap=pyplot.get_cmap('gray'))\n",
        "  pyplot.show()"
      ],
      "metadata": {
        "id": "_XXn_TD8cLfT",
        "colab": {
          "base_uri": "https://localhost:8080/",
          "height": 1000
        },
        "outputId": "a0a8136a-29f6-4bf0-abe0-3fe9c544be24"
      },
      "execution_count": null,
      "outputs": [
        {
          "output_type": "display_data",
          "data": {
            "text/plain": [
              "<Figure size 640x480 with 1 Axes>"
            ],
            "image/png": "[encoded data removed]"
          },
          "metadata": {}
        },
        {
          "output_type": "display_data",
          "data": {
            "text/plain": [
              "<Figure size 640x480 with 1 Axes>"
            ],
            "image/png": "[encoded data removed]"
          },
          "metadata": {}
        },
        {
          "output_type": "display_data",
          "data": {
            "text/plain": [
              "<Figure size 640x480 with 1 Axes>"
            ],
            "image/png": "[encoded data removed]"
          },
          "metadata": {}
        },
        {
          "output_type": "display_data",
          "data": {
            "text/plain": [
              "<Figure size 640x480 with 1 Axes>"
            ],
            "image/png": "[encoded data removed]"
          },
          "metadata": {}
        },
        {
          "output_type": "display_data",
          "data": {
            "text/plain": [
              "<Figure size 640x480 with 1 Axes>"
            ],
            "image/png": "[encoded data removed]"
          },
          "metadata": {}
        },
        {
          "output_type": "display_data",
          "data": {
            "text/plain": [
              "<Figure size 640x480 with 1 Axes>"
            ],
            "image/png": "[encoded data removed]"
          },
          "metadata": {}
        },
        {
          "output_type": "display_data",
          "data": {
            "text/plain": [
              "<Figure size 640x480 with 1 Axes>"
            ],
            "image/png": "[encoded data removed]"
          },
          "metadata": {}
        },
        {
          "output_type": "display_data",
          "data": {
            "text/plain": [
              "<Figure size 640x480 with 1 Axes>"
            ],
            "image/png": "[encoded data removed]"
          },
          "metadata": {}
        },
        {
          "output_type": "display_data",
          "data": {
            "text/plain": [
              "<Figure size 640x480 with 1 Axes>"
            ],
            "image/png": "[encoded data removed]"
          },
          "metadata": {}
        }
      ]
    },
    {
      "cell_type": "code",
      "source": [
        "max(rev_x[1])"
      ],
      "metadata": {
        "colab": {
          "base_uri": "https://localhost:8080/"
        },
        "id": "leOTfNylp3hJ",
        "outputId": "f5c20845-1707-483b-daa3-f2ddd69c6fa9"
      },
      "execution_count": null,
      "outputs": [
        {
          "output_type": "execute_result",
          "data": {
            "text/plain": [
              "1.7873391"
            ]
          },
          "metadata": {},
          "execution_count": 216
        }
      ]
    },
    {
      "cell_type": "code",
      "source": [
        "min(rev_x[1])"
      ],
      "metadata": {
        "colab": {
          "base_uri": "https://localhost:8080/"
        },
        "id": "nHh2llMiqC5X",
        "outputId": "cf8bae19-b757-4bba-a6d0-96a9e64c87ab"
      },
      "execution_count": null,
      "outputs": [
        {
          "output_type": "execute_result",
          "data": {
            "text/plain": [
              "-1.1039433"
            ]
          },
          "metadata": {},
          "execution_count": 217
        }
      ]
    },
    {
      "cell_type": "code",
      "source": [
        "def normalize(values, actual_bounds, desired_bounds):\n",
        "    return [desired_bounds[0] + (x - actual_bounds[0]) * (desired_bounds[1] - desired_bounds[0]) / (actual_bounds[1] - actual_bounds[0]) for x in values]"
      ],
      "metadata": {
        "id": "G1Rrq0l1CTsj"
      },
      "execution_count": null,
      "outputs": []
    },
    {
      "cell_type": "code",
      "source": [
        "import numpy"
      ],
      "metadata": {
        "id": "WYFa4ZtSu1qZ"
      },
      "execution_count": null,
      "outputs": []
    },
    {
      "cell_type": "code",
      "source": [
        "y_samps[p, -10:]"
      ],
      "metadata": {
        "id": "8BxEuA-_Atp9",
        "colab": {
          "base_uri": "https://localhost:8080/"
        },
        "outputId": "a89e500e-db9b-4a80-e051-1349a30c9312"
      },
      "execution_count": null,
      "outputs": [
        {
          "output_type": "execute_result",
          "data": {
            "text/plain": [
              "tensor([ 0.0080, -0.1487, -0.0042,  0.0801,  1.1126,  0.0240,  0.1879, -0.0156,\n",
              "        -0.0496, -0.0405], device='cuda:0')"
            ]
          },
          "metadata": {},
          "execution_count": 255
        }
      ]
    },
    {
      "cell_type": "code",
      "source": [
        "p = 187\n",
        "\n",
        "norm_x = normalize(\n",
        "    (255*rev_x[p]),\n",
        "    (min(rev_x[p]),max(rev_x[p])),\n",
        "    (0,255)\n",
        ")\n",
        "\n",
        "norm_x1 = numpy.trunc(norm_x)\n",
        "test2 = norm_x1[0:784]\n",
        "test3 = numpy.reshape(test2, (28,28))\n",
        "\n",
        "pyplot.imshow(test3, cmap=pyplot.get_cmap('gray'))\n",
        "pyplot.show()"
      ],
      "metadata": {
        "id": "1rXPIDMfCUuC",
        "colab": {
          "base_uri": "https://localhost:8080/",
          "height": 310
        },
        "outputId": "472b2aca-5f8c-47ee-ebc3-afa7ff8e5df1"
      },
      "execution_count": null,
      "outputs": [
        {
          "output_type": "display_data",
          "data": {
            "text/plain": [
              "<Figure size 640x480 with 1 Axes>"
            ],
            "image/png": "[encoded data removed]"
          },
          "metadata": {}
        }
      ]
    }
  ],
  "metadata": {
    "kernelspec": {
      "display_name": "Python 3",
      "name": "python3"
    },
    "language_info": {
      "codemirror_mode": {
        "name": "ipython",
        "version": 3
      },
      "file_extension": ".py",
      "mimetype": "text/x-python",
      "name": "python",
      "nbconvert_exporter": "python",
      "pygments_lexer": "ipython3",
      "version": "3.7.3"
    },
    "colab": {
      "provenance": [],
      "gpuType": "T4",
      "include_colab_link": true
    },
    "accelerator": "GPU"
  },
  "nbformat": 4,
  "nbformat_minor": 0
}