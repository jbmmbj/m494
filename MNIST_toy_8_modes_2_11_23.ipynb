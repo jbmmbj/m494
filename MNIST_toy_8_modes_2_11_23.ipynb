{
  "cells": [
    {
      "cell_type": "markdown",
      "metadata": {
        "id": "view-in-github",
        "colab_type": "text"
      },
      "source": [
        "<a href=\"https://colab.research.google.com/github/jbmmbj/m494/blob/main/MNIST_toy_8_modes_2_11_23.ipynb\" target=\"_parent\"><img src=\"https://colab.research.google.com/assets/colab-badge.svg\" alt=\"Open In Colab\"/></a>"
      ]
    },
    {
      "cell_type": "markdown",
      "metadata": {
        "id": "NxQeZRRitPaO"
      },
      "source": [
        "\n",
        "\"Toy Data: 8-Modes Mixture Model\"\n",
        "\n",
        "Source of original code: https://github.com/vislearn/analyzing_inverse_problems/blob/master/toy_8-modes/toy_8-modes.ipynb\n",
        "\n",
        "# **FIXED & adapted to MNIST data**"
      ]
    },
    {
      "cell_type": "markdown",
      "metadata": {
        "id": "_SqFpN2al-fH"
      },
      "source": [
        "\n",
        "\n",
        "\n",
        "The code has been fixed to accomodate outdated versions of dependencies. Of note is the FrEIA module ReversibleGraphNet, which was modified by the developers to output a tuple of the transformed variable and the log Jacobian determinant. (The developers later depreciated ReversibleGraphNet in favor of GraphINN.) ReversibleGraphNet still works in this model, but the code had to be modified to ignore the variable assignment of the log Jacobian determinant output.\n",
        "\n",
        "Additionally, there was an error in the optimization step. Some of the model parameters are NaN (NoneType) which prevents backpropagation. Relatively few of the model parameters have this problem, so the code was modified to simply ignore these parameters. This issue may be related to the fix mentioned above regarding the log Jacobian determinant. However, the log Jacobian determinant is not a trainable parameter. Nonetheless, the original model trains and outputs as expected with these changes made.\n",
        "\n",
        "-----------------------------------------\n",
        "\n",
        "The code has been changed to model MNIST data. These changes include pre/post processing of MNIST data, updated names and dimensions of variables, deletion of code to plot during training, and an increased number of iterations per epoch."
      ]
    },
    {
      "cell_type": "markdown",
      "metadata": {
        "id": "28x4oB1IcO3-"
      },
      "source": [
        "## Introduction\n",
        "\n",
        "**Text from cited authors (may not be accurate):**\n",
        "\n",
        "\"This notebook is supposed to demonstrate how to use FrEIA to create reversible architectures.\n",
        "\n",
        "We will use the toy data from the paper in this example.\""
      ]
    },
    {
      "cell_type": "code",
      "execution_count": 1,
      "metadata": {
        "colab": {
          "base_uri": "https://localhost:8080/"
        },
        "id": "J_aO4rZ6cVia",
        "outputId": "f01171fb-6044-4f09-a95e-c11a23c1c336"
      },
      "outputs": [
        {
          "output_type": "stream",
          "name": "stdout",
          "text": [
            "Collecting FrEIA\n",
            "  Downloading FrEIA-0.2.tar.gz (34 kB)\n",
            "  Preparing metadata (setup.py) ... \u001b[?25l\u001b[?25hdone\n",
            "Requirement already satisfied: numpy>=1.15.0 in /usr/local/lib/python3.10/dist-packages (from FrEIA) (1.23.5)\n",
            "Requirement already satisfied: scipy>=1.5 in /usr/local/lib/python3.10/dist-packages (from FrEIA) (1.11.4)\n",
            "Requirement already satisfied: torch>=1.0.0 in /usr/local/lib/python3.10/dist-packages (from FrEIA) (2.1.0+cu121)\n",
            "Requirement already satisfied: filelock in /usr/local/lib/python3.10/dist-packages (from torch>=1.0.0->FrEIA) (3.13.1)\n",
            "Requirement already satisfied: typing-extensions in /usr/local/lib/python3.10/dist-packages (from torch>=1.0.0->FrEIA) (4.9.0)\n",
            "Requirement already satisfied: sympy in /usr/local/lib/python3.10/dist-packages (from torch>=1.0.0->FrEIA) (1.12)\n",
            "Requirement already satisfied: networkx in /usr/local/lib/python3.10/dist-packages (from torch>=1.0.0->FrEIA) (3.2.1)\n",
            "Requirement already satisfied: jinja2 in /usr/local/lib/python3.10/dist-packages (from torch>=1.0.0->FrEIA) (3.1.3)\n",
            "Requirement already satisfied: fsspec in /usr/local/lib/python3.10/dist-packages (from torch>=1.0.0->FrEIA) (2023.6.0)\n",
            "Requirement already satisfied: triton==2.1.0 in /usr/local/lib/python3.10/dist-packages (from torch>=1.0.0->FrEIA) (2.1.0)\n",
            "Requirement already satisfied: MarkupSafe>=2.0 in /usr/local/lib/python3.10/dist-packages (from jinja2->torch>=1.0.0->FrEIA) (2.1.5)\n",
            "Requirement already satisfied: mpmath>=0.19 in /usr/local/lib/python3.10/dist-packages (from sympy->torch>=1.0.0->FrEIA) (1.3.0)\n",
            "Building wheels for collected packages: FrEIA\n",
            "  Building wheel for FrEIA (setup.py) ... \u001b[?25l\u001b[?25hdone\n",
            "  Created wheel for FrEIA: filename=FrEIA-0.2-py3-none-any.whl size=42759 sha256=e84735129f9fbc79ec7ef58f2de71330e29885273af18a1153cc6adc478bbaa8\n",
            "  Stored in directory: /root/.cache/pip/wheels/81/a8/e2/d532a76f72108ac4a340cbe3f86b4f591abfdbd75209a5badb\n",
            "Successfully built FrEIA\n",
            "Installing collected packages: FrEIA\n",
            "Successfully installed FrEIA-0.2\n"
          ]
        }
      ],
      "source": [
        "pip install FrEIA"
      ]
    },
    {
      "cell_type": "code",
      "execution_count": 2,
      "metadata": {
        "id": "M0yP1z3DcO3_"
      },
      "outputs": [],
      "source": [
        "%matplotlib inline\n",
        "from time import time\n",
        "\n",
        "import torch\n",
        "import torch.nn as nn\n",
        "import torch.optim\n",
        "import numpy as np\n",
        "import matplotlib.pyplot as plt\n",
        "from tqdm import tqdm\n",
        "\n",
        "from FrEIA.framework import InputNode, OutputNode, Node, ReversibleGraphNet\n",
        "from FrEIA.modules import GLOWCouplingBlock, PermuteRandom, InvertibleSigmoid, AllInOneBlock\n",
        "\n",
        "\n",
        "device = 'cuda' if torch.cuda.is_available() else 'cpu'"
      ]
    },
    {
      "cell_type": "markdown",
      "metadata": {
        "id": "70hn2hzRcO4A"
      },
      "source": [
        "## Setting up the data\n",
        "\n",
        "**Text from cited authors (may not be accurate):**\n",
        "\n",
        "\"We generate the data by sampling from a Gaussian mixture distribution with 8 labeled modes. The dataset will contain $2^{20}$ samples, $10000$ of which we will use for testing purposes.\n",
        "\n",
        "You can see a plot of the test data below.\n",
        "\n",
        "In the forward process our model is supposed to predict the label (or in this case, color) of a sample based on its position in $\\mathbb{R}^2$. In the reverse direction the model should allow us to sample from the mixture component given by a label.\""
      ]
    },
    {
      "cell_type": "markdown",
      "metadata": {
        "id": "tjQP964vgRi8"
      },
      "source": [
        "Load MNIST data"
      ]
    },
    {
      "cell_type": "code",
      "execution_count": 3,
      "metadata": {
        "colab": {
          "base_uri": "https://localhost:8080/"
        },
        "id": "YPuuhyqQSSK4",
        "outputId": "f1e16653-d1d5-43b8-fcbb-5ddc1de5b4b2"
      },
      "outputs": [
        {
          "output_type": "stream",
          "name": "stdout",
          "text": [
            "Downloading data from https://storage.googleapis.com/tensorflow/tf-keras-datasets/mnist.npz\n",
            "11490434/11490434 [==============================] - 1s 0us/step\n"
          ]
        }
      ],
      "source": [
        "import keras\n",
        "(x_train, y_train), (x_test, y_test) = keras.datasets.mnist.load_data()"
      ]
    },
    {
      "cell_type": "code",
      "execution_count": 4,
      "metadata": {
        "id": "2ATII1xYT8bd"
      },
      "outputs": [],
      "source": [
        "x_train_t = torch.tensor(x_train)\n",
        "x_train_flat = torch.flatten(x_train_t, 1, 2)\n",
        "x_train_flat = x_train_flat / 255\n",
        "x_test_t = torch.tensor(x_test)\n",
        "x_test_flat = torch.flatten(x_test_t, 1, 2)\n",
        "x_test_flat = x_test_flat / 255"
      ]
    },
    {
      "cell_type": "markdown",
      "metadata": {
        "id": "nNafZRdogIsS"
      },
      "source": [
        "One-hot encode labels"
      ]
    },
    {
      "cell_type": "code",
      "execution_count": 5,
      "metadata": {
        "id": "rQ5xMfKwjEjY"
      },
      "outputs": [],
      "source": [
        "y_train_t = torch.tensor(y_train)\n",
        "y_test_t = torch.tensor(y_test)\n",
        "\n",
        "zero = torch.tensor([1,0,0,0,0,0,0,0,0,0])\n",
        "one = torch.tensor([0,1,0,0,0,0,0,0,0,0])\n",
        "two = torch.tensor([0,0,1,0,0,0,0,0,0,0])\n",
        "three = torch.tensor([0,0,0,1,0,0,0,0,0,0])\n",
        "four = torch.tensor([0,0,0,0,1,0,0,0,0,0])\n",
        "five = torch.tensor([0,0,0,0,0,1,0,0,0,0])\n",
        "six = torch.tensor([0,0,0,0,0,0,1,0,0,0])\n",
        "seven = torch.tensor([0,0,0,0,0,0,0,1,0,0])\n",
        "eight = torch.tensor([0,0,0,0,0,0,0,0,1,0])\n",
        "nine = torch.tensor([0,0,0,0,0,0,0,0,0,1])"
      ]
    },
    {
      "cell_type": "code",
      "execution_count": 6,
      "metadata": {
        "id": "Y4QbLfQobZuZ"
      },
      "outputs": [],
      "source": [
        "y_train_empty = torch.empty(60000, 10)\n",
        "\n",
        "for i in range(len(y_train_t)):\n",
        "  if y_train_t[i] == 0:\n",
        "    y_train_empty[i] = zero\n",
        "  elif y_train_t[i] == 1:\n",
        "    y_train_empty[i] = one\n",
        "  elif y_train_t[i] == 2:\n",
        "    y_train_empty[i] = two\n",
        "  elif y_train_t[i] == 3:\n",
        "    y_train_empty[i] = three\n",
        "  elif y_train_t[i] == 4:\n",
        "    y_train_empty[i] = four\n",
        "  elif y_train_t[i] == 5:\n",
        "    y_train_empty[i] = five\n",
        "  elif y_train_t[i] == 6:\n",
        "    y_train_empty[i] = six\n",
        "  elif y_train_t[i] == 7:\n",
        "    y_train_empty[i] = seven\n",
        "  elif y_train_t[i] == 8:\n",
        "    y_train_empty[i] = eight\n",
        "  elif y_train_t[i] == 9:\n",
        "    y_train_empty[i] = nine\n",
        "\n",
        "y_train_1hot = y_train_empty"
      ]
    },
    {
      "cell_type": "code",
      "execution_count": 7,
      "metadata": {
        "id": "G2YRl09Gu0EH"
      },
      "outputs": [],
      "source": [
        "y_test_empty = torch.empty(10000, 10)\n",
        "\n",
        "for i in range(len(y_test_t)):\n",
        "  if y_test_t[i] == 0:\n",
        "    y_test_empty[i] = zero\n",
        "  elif y_test_t[i] == 1:\n",
        "    y_test_empty[i] = one\n",
        "  elif y_test_t[i] == 2:\n",
        "    y_test_empty[i] = two\n",
        "  elif y_test_t[i] == 3:\n",
        "    y_test_empty[i] = three\n",
        "  elif y_test_t[i] == 4:\n",
        "    y_test_empty[i] = four\n",
        "  elif y_test_t[i] == 5:\n",
        "    y_test_empty[i] = five\n",
        "  elif y_test_t[i] == 6:\n",
        "    y_test_empty[i] = six\n",
        "  elif y_test_t[i] == 7:\n",
        "    y_test_empty[i] = seven\n",
        "  elif y_test_t[i] == 8:\n",
        "    y_test_empty[i] = eight\n",
        "  elif y_test_t[i] == 9:\n",
        "    y_test_empty[i] = nine\n",
        "\n",
        "y_test_1hot = y_test_empty"
      ]
    },
    {
      "cell_type": "markdown",
      "metadata": {
        "id": "CDYfLsmjcO4B"
      },
      "source": [
        "## Setting up the model\n",
        "\n",
        "**Text from cited authors (may not be accurate):**\n",
        "\n",
        "\"Our model consists of three invertible blocks using multiplicative coupling layers and 3-layer fully connected sub-networks for $s_i$ and $t_i$. The input is encoded in 2 dimensions. The latent dimension $z$ is set to 2 and concatenated with the predicted labels $y$ encoded as a 8-dimensional one-hot vector. In- and output are zero-padded to 16 dimensions.\""
      ]
    },
    {
      "cell_type": "code",
      "execution_count": 8,
      "metadata": {
        "id": "JBat-Ns6cO4C"
      },
      "outputs": [],
      "source": [
        "ndim_tot = 800\n",
        "ndim_x = 784\n",
        "ndim_y = 10\n",
        "ndim_z = 784\n",
        "\n",
        "def subnet_fc(c_in, c_out):\n",
        "    return nn.Sequential(nn.Linear(c_in, 512), nn.ReLU(),\n",
        "                         nn.Linear(512,  c_out))\n",
        "\n",
        "nodes = [InputNode(ndim_tot, name='input')]\n",
        "\n",
        "for k in range(8):\n",
        "    nodes.append(Node(nodes[-1],\n",
        "                      GLOWCouplingBlock,\n",
        "                      {'subnet_constructor':subnet_fc, 'clamp':2.0},\n",
        "                      name=F'coupling_{k}'))\n",
        "    nodes.append(Node(nodes[-1],\n",
        "                      PermuteRandom,\n",
        "                      {'seed':k},\n",
        "                      name=F'permute_{k}'))\n",
        "\n",
        "nodes.append(OutputNode(nodes[-1], name='output'))\n",
        "\n",
        "model = ReversibleGraphNet(nodes, verbose=False)"
      ]
    },
    {
      "cell_type": "markdown",
      "metadata": {
        "id": "whQvWzdQcO4C"
      },
      "source": [
        "## Training the model\n",
        "\n",
        "**Text from cited authors (may not be accurate):**\n",
        "\n",
        "\"We will train our model using 3 losses. In the forward direction we apply a MSE loss to the assigned label and a distributional loss to the latent variable $z$.\n",
        "We make use of the reversability of our model and apply a third loss, that matches the distribution of samples from our dataset to the distribution of backward predictions of our model.\n",
        "You can find more information on the losses in the [paper](https://arxiv.org/abs/1808.04730).\""
      ]
    },
    {
      "cell_type": "code",
      "execution_count": 9,
      "metadata": {
        "id": "KnJ37bgXcO4C"
      },
      "outputs": [],
      "source": [
        "# Training parameters\n",
        "n_epochs = 200\n",
        "n_its_per_epoch = 50\n",
        "batch_size = 1200\n",
        "\n",
        "lr = 1e-3\n",
        "l2_reg = 2e-5\n",
        "\n",
        "y_noise_scale = 1e-1\n",
        "zeros_noise_scale = 5e-2\n",
        "\n",
        "# relative weighting of losses:\n",
        "lambd_predict = 3.\n",
        "lambd_latent = 300.\n",
        "lambd_rev = 400.\n",
        "\n",
        "# track MMD backward loss\n",
        "b_loss = torch.tensor([0])\n",
        "f_loss = torch.tensor([0])\n",
        "\n",
        "pad_x = torch.zeros(batch_size, ndim_tot - ndim_x)\n",
        "pad_yz = torch.zeros(batch_size, ndim_tot - ndim_y - ndim_z)\n",
        "\n",
        "trainable_parameters = [p for p in model.parameters() if p.requires_grad]\n",
        "optimizer = torch.optim.Adam(trainable_parameters, lr=lr, betas=(0.8, 0.9),\n",
        "                             eps=1e-6, weight_decay=l2_reg)\n",
        "\n",
        "\n",
        "def MMD_multiscale(x, y):\n",
        "    xx, yy, zz = torch.mm(x,x.t()), torch.mm(y,y.t()), torch.mm(x,y.t())\n",
        "\n",
        "    rx = (xx.diag().unsqueeze(0).expand_as(xx))\n",
        "    ry = (yy.diag().unsqueeze(0).expand_as(yy))\n",
        "\n",
        "    dxx = rx.t() + rx - 2.*xx\n",
        "    dyy = ry.t() + ry - 2.*yy\n",
        "    dxy = rx.t() + ry - 2.*zz\n",
        "\n",
        "    XX, YY, XY = (torch.zeros(xx.shape).to(device),\n",
        "                  torch.zeros(xx.shape).to(device),\n",
        "                  torch.zeros(xx.shape).to(device))\n",
        "\n",
        "    for a in [0.05, 0.2, 0.9]:\n",
        "        XX += a**2 * (a**2 + dxx)**-1\n",
        "        YY += a**2 * (a**2 + dyy)**-1\n",
        "        XY += a**2 * (a**2 + dxy)**-1\n",
        "\n",
        "    return torch.mean(XX + YY - 2.*XY)\n",
        "\n",
        "\n",
        "def fit(input, target):\n",
        "    return torch.mean((input - target)**2)\n",
        "\n",
        "loss_backward = MMD_multiscale\n",
        "loss_latent = MMD_multiscale\n",
        "loss_fit = fit\n",
        "\n",
        "test_loader = torch.utils.data.DataLoader(\n",
        "    torch.utils.data.TensorDataset(x_test_flat, y_test_1hot),\n",
        "    batch_size=batch_size, shuffle=True, drop_last=True)\n",
        "\n",
        "train_loader = torch.utils.data.DataLoader(\n",
        "    torch.utils.data.TensorDataset(x_train_flat, y_train_1hot),\n",
        "    batch_size=batch_size, shuffle=True, drop_last=True)"
      ]
    },
    {
      "cell_type": "markdown",
      "metadata": {
        "id": "qspFPBKHcO4C"
      },
      "source": [
        "\n",
        "**Text from cited authors (may not be accurate):**\n",
        "\n",
        "\"We can now define our training method. Note how we simply used the model for forward training, zeroed the gradients and switch to backwards training simply by setting `rev=True`. Randomness in the samples generated by backwards prediction is achieved by drawing $z$ randomly from a 2-dimensional Normal distribution.\""
      ]
    },
    {
      "cell_type": "code",
      "execution_count": 10,
      "metadata": {
        "id": "3gZOUx5wcO4D"
      },
      "outputs": [],
      "source": [
        "def train(i_epoch=0):\n",
        "    model.train()\n",
        "\n",
        "    l_tot = 0\n",
        "    batch_idx = 0\n",
        "\n",
        "    t_start = time()\n",
        "\n",
        "    # If MMD on x-space is present from the start, the model can get stuck.\n",
        "    # Instead, ramp it up exponetially.\n",
        "    loss_factor = min(1., 2. * 0.002**(1. - (float(i_epoch) / n_epochs)))\n",
        "\n",
        "    for x, y in train_loader:\n",
        "        batch_idx += 1\n",
        "        if batch_idx > n_its_per_epoch:\n",
        "            break\n",
        "\n",
        "        x, y = x.to(device), y.to(device)\n",
        "\n",
        "        y_clean = y.clone()\n",
        "        pad_x = zeros_noise_scale * torch.randn(batch_size, ndim_tot -\n",
        "                                                ndim_x, device=device)\n",
        "        pad_yz = zeros_noise_scale * torch.randn(batch_size, ndim_tot -\n",
        "                                                 ndim_y - ndim_z, device=device)\n",
        "\n",
        "        y += y_noise_scale * torch.randn(batch_size, ndim_y, dtype=torch.float, device=device)\n",
        "\n",
        "        x, y = (torch.cat((x, pad_x),  dim=1),\n",
        "                torch.cat((torch.randn(batch_size, ndim_z, device=device), pad_yz, y),\n",
        "                          dim=1))\n",
        "\n",
        "\n",
        "        optimizer.zero_grad()\n",
        "\n",
        "        # Forward step:\n",
        "\n",
        "        output, _ = model(x)\n",
        "\n",
        "        # Shorten output, and remove gradients wrt y, for latent loss\n",
        "        y_short = torch.cat((y[:, :ndim_z], y[:, -ndim_y:]), dim=1)\n",
        "\n",
        "        l = lambd_predict * loss_fit(output[:, ndim_z:], y[:, ndim_z:])\n",
        "\n",
        "        output_block_grad = torch.cat((output[:, :ndim_z],\n",
        "                                       output[:, -ndim_y:].data), dim=1)\n",
        "\n",
        "        l += lambd_latent * loss_latent(output_block_grad, y_short)\n",
        "        f_loss = l\n",
        "        l_tot += l.data.item()\n",
        "\n",
        "        l.backward()\n",
        "\n",
        "        # Backward step:\n",
        "        pad_yz = zeros_noise_scale * torch.randn(batch_size, ndim_tot -\n",
        "                                                 ndim_y - ndim_z, device=device)\n",
        "        y = y_clean + y_noise_scale * torch.randn(batch_size, ndim_y, device=device)\n",
        "\n",
        "        orig_z_perturbed = (output.data[:, :ndim_z] + y_noise_scale *\n",
        "                            torch.randn(batch_size, ndim_z, device=device))\n",
        "        y_rev = torch.cat((orig_z_perturbed, pad_yz,\n",
        "                           y), dim=1)\n",
        "        y_rev_rand = torch.cat((torch.randn(batch_size, ndim_z, device=device), pad_yz,\n",
        "                                y), dim=1)\n",
        "\n",
        "        output_rev, _ = model(y_rev, rev=True)\n",
        "        output_rev_rand, _ = model(y_rev_rand, rev=True)\n",
        "\n",
        "\n",
        "        l_rev = (\n",
        "            lambd_rev\n",
        "            * loss_factor\n",
        "            * loss_backward(output_rev_rand[:, :ndim_x],\n",
        "                            x[:, :ndim_x])\n",
        "        )\n",
        "\n",
        "        l_rev += lambd_predict * loss_fit(output_rev, x)\n",
        "        b_loss = l_rev\n",
        "        l_tot += l_rev.data.item()\n",
        "\n",
        "        t_loss = l_tot\n",
        "\n",
        "        l_rev.backward()\n",
        "\n",
        "        for p in model.parameters():\n",
        "            if p.grad is not None:\n",
        "              p.grad.data.clamp_(-15.00, 15.00)\n",
        "\n",
        "        optimizer.step()\n",
        "\n",
        "    return l_tot / batch_idx, b_loss, f_loss, t_loss"
      ]
    },
    {
      "cell_type": "markdown",
      "metadata": {
        "id": "iU9yU_fgcO4D"
      },
      "source": [
        "\n",
        "**Text from cited authors (may not be accurate):**\n",
        "\n",
        "\"We initialize our model parameters using normal distributions. The following loop over epochs plots label predictions and backwards predicted samples, so you can see the model getting better during training.\""
      ]
    },
    {
      "cell_type": "code",
      "execution_count": 11,
      "metadata": {
        "colab": {
          "base_uri": "https://localhost:8080/"
        },
        "id": "A4ZbAAT-cO4D",
        "scrolled": false,
        "outputId": "f4d8f857-c510-40e9-94a3-4e33b9f15665"
      },
      "outputs": [
        {
          "output_type": "stream",
          "name": "stderr",
          "text": [
            "100%|#########################################| 200/200 [25:29<00:00,  7.65s/it]"
          ]
        },
        {
          "output_type": "stream",
          "name": "stdout",
          "text": [
            "\n",
            "\n",
            "Training took 25.49 minutes\n",
            "\n"
          ]
        },
        {
          "output_type": "stream",
          "name": "stderr",
          "text": [
            "\n"
          ]
        }
      ],
      "source": [
        "for param in trainable_parameters:\n",
        "    param.data = 0.05*torch.randn_like(param)\n",
        "\n",
        "model.to(device)\n",
        "\n",
        "N_samp = 200\n",
        "\n",
        "x_samps = torch.cat([x for x,y in test_loader], dim=0)[:N_samp]\n",
        "y_samps = torch.cat([y for x,y in test_loader], dim=0)[:N_samp]\n",
        "c = np.where(y_samps)[1]\n",
        "y_samps += y_noise_scale * torch.randn(N_samp, ndim_y)\n",
        "y_samps = torch.cat([torch.randn(N_samp, ndim_z),\n",
        "                     zeros_noise_scale * torch.zeros(N_samp, ndim_tot - ndim_y - ndim_z),\n",
        "                     y_samps], dim=1)\n",
        "y_samps = y_samps.to(device)\n",
        "\n",
        "bb_loss = torch.tensor([0])\n",
        "bb_loss = bb_loss.to(device)\n",
        "\n",
        "ff_loss = torch.tensor([0])\n",
        "ff_loss = ff_loss.to(device)\n",
        "\n",
        "tt_loss = np.array([0])\n",
        "\n",
        "try:\n",
        "    t_start = time()\n",
        "    for i_epoch in tqdm(range(n_epochs), ascii=True, ncols=80):\n",
        "\n",
        "        _, b_loss, f_loss, t_loss = train(i_epoch)\n",
        "\n",
        "        bb_loss = torch.cat((bb_loss, b_loss.reshape(1)), dim=0)\n",
        "        ff_loss = torch.cat((ff_loss, f_loss.reshape(1)), dim=0)\n",
        "        tt_loss = np.append(tt_loss, t_loss)\n",
        "\n",
        "        rev_x, _ = model(y_samps, rev=True)\n",
        "        rev_x = rev_x.cpu().data.numpy()\n",
        "\n",
        "        pred_num, _ = model(torch.cat((x_samps, torch.zeros(N_samp, ndim_tot - ndim_x)),\n",
        "                                 dim=1).to(device))\n",
        "        pred_num = pred_num.data[:, -10:].argmax(dim=1)\n",
        "\n",
        "\n",
        "\n",
        "except KeyboardInterrupt:\n",
        "    pass\n",
        "finally:\n",
        "    print(f\"\\n\\nTraining took {(time()-t_start)/60:.2f} minutes\\n\")"
      ]
    },
    {
      "cell_type": "code",
      "execution_count": 12,
      "metadata": {
        "id": "u0fX0OO-6cPI",
        "colab": {
          "base_uri": "https://localhost:8080/"
        },
        "outputId": "21c85bb3-4065-4792-a82e-301d05eb0d41"
      },
      "outputs": [
        {
          "output_type": "execute_result",
          "data": {
            "text/plain": [
              "array([0.00000000e+00, 5.82876238e+18, 1.09214383e+16, 1.51346470e+09,\n",
              "       5.84778252e+01, 4.14940268e-01, 3.90995353e-01, 3.20678174e-01,\n",
              "       1.75261229e-01, 1.42185286e-01, 1.14619114e-01, 1.01101086e-01,\n",
              "       8.78981054e-02, 8.01190957e-02, 7.41989315e-02, 7.97615498e-02,\n",
              "       7.14874864e-02, 6.65273592e-02, 6.99478090e-02, 7.01898634e-02,\n",
              "       6.78807497e-02, 6.72167838e-02, 6.82873502e-02, 6.84345812e-02,\n",
              "       6.83300570e-02, 6.92255124e-02, 6.56444058e-02, 6.95533752e-02,\n",
              "       6.86678290e-02, 6.80347383e-02, 6.90848604e-02, 6.74514621e-02,\n",
              "       6.72652498e-02, 6.89450502e-02, 7.00547695e-02, 7.01006204e-02,\n",
              "       6.79209456e-02, 6.96545690e-02, 6.80715516e-02, 7.17173591e-02,\n",
              "       7.06630945e-02, 7.42685795e-02, 7.50082135e-02, 7.67795369e-02,\n",
              "       7.52937868e-02, 7.97674507e-02, 7.86680430e-02, 7.57350996e-02,\n",
              "       7.93048665e-02, 8.18571746e-02, 8.05043355e-02, 8.21633786e-02,\n",
              "       8.02783519e-02, 8.30844939e-02, 8.31610262e-02, 9.08099264e-02,\n",
              "       8.70844051e-02, 8.74779224e-02, 8.88686478e-02, 9.11382586e-02,\n",
              "       9.23170596e-02, 9.55637395e-02, 9.69660431e-02, 9.61441994e-02,\n",
              "       1.00112662e-01, 1.01347916e-01, 1.01965889e-01, 1.04447149e-01,\n",
              "       1.04217708e-01, 1.07289642e-01, 1.07230671e-01, 1.13580458e-01,\n",
              "       1.12805523e-01, 1.17162213e-01, 1.19288057e-01, 1.19715415e-01,\n",
              "       1.23146385e-01, 1.27721116e-01, 1.27898976e-01, 1.34185493e-01,\n",
              "       1.35159776e-01, 1.38058558e-01, 1.43656075e-01, 1.46857232e-01,\n",
              "       1.48367852e-01, 1.50537103e-01, 1.53189987e-01, 1.55878380e-01,\n",
              "       1.57736719e-01, 1.66130707e-01, 1.67712152e-01, 1.71897292e-01,\n",
              "       1.77610740e-01, 1.82792589e-01, 1.84938207e-01, 1.88042983e-01,\n",
              "       1.92762822e-01, 2.00466871e-01, 2.05350459e-01, 2.09764272e-01,\n",
              "       2.13953093e-01, 2.23693907e-01, 2.27503985e-01, 2.33556703e-01,\n",
              "       2.42830247e-01, 2.45305866e-01, 2.53948897e-01, 2.56680459e-01,\n",
              "       2.66843289e-01, 2.71185577e-01, 2.81443238e-01, 2.85359621e-01,\n",
              "       2.92967588e-01, 2.99978912e-01, 3.11870486e-01, 3.20728302e-01,\n",
              "       3.26749444e-01, 3.34977478e-01, 3.48951489e-01, 3.57902735e-01,\n",
              "       3.67146075e-01, 3.80650103e-01, 3.87611449e-01, 3.98867846e-01,\n",
              "       4.09642816e-01, 4.22217429e-01, 4.35955018e-01, 4.46366668e-01,\n",
              "       4.56869274e-01, 4.69558418e-01, 4.82899129e-01, 4.94306535e-01,\n",
              "       5.12579679e-01, 5.39418399e-01, 5.41303396e-01, 5.58144987e-01,\n",
              "       5.72349668e-01, 5.96395969e-01, 6.08598530e-01, 6.27258182e-01,\n",
              "       6.46351755e-01, 6.63495362e-01, 6.83294952e-01, 7.12658346e-01,\n",
              "       7.26051331e-01, 7.47759521e-01, 7.76245236e-01, 7.91427195e-01,\n",
              "       8.16184402e-01, 8.42041135e-01, 8.68397832e-01, 8.96408975e-01,\n",
              "       9.18779314e-01, 9.50782597e-01, 9.74371731e-01, 1.00444663e+00,\n",
              "       1.04727912e+00, 1.07335401e+00, 1.11111343e+00, 1.13439119e+00,\n",
              "       1.16793263e+00, 1.21190369e+00, 1.24517357e+00, 1.27532506e+00,\n",
              "       1.31547987e+00, 1.35769832e+00, 1.39764416e+00, 1.43360806e+00,\n",
              "       1.48802161e+00, 1.52922297e+00, 1.58536661e+00, 1.62659097e+00,\n",
              "       1.68336558e+00, 1.72357297e+00, 1.79533267e+00, 1.84241128e+00,\n",
              "       1.89586580e+00, 1.95299578e+00, 2.00969458e+00, 2.05580974e+00,\n",
              "       2.06353879e+00, 2.04964828e+00, 2.07958627e+00, 2.04619527e+00,\n",
              "       2.06609750e+00, 2.06435466e+00, 2.06133556e+00, 2.05165577e+00,\n",
              "       2.05699539e+00, 2.04638863e+00, 2.05184627e+00, 2.05431843e+00,\n",
              "       2.05759406e+00, 2.06021881e+00, 2.05176115e+00, 2.06142092e+00,\n",
              "       2.04183030e+00, 2.04469967e+00, 2.05539083e+00, 2.05303931e+00,\n",
              "       2.05473852e+00], dtype=float32)"
            ]
          },
          "metadata": {},
          "execution_count": 12
        }
      ],
      "source": [
        "bb_loss.cpu().detach().numpy()"
      ]
    },
    {
      "cell_type": "code",
      "source": [
        "plt.plot(bb_loss.cpu().detach().numpy()[6:50])"
      ],
      "metadata": {
        "colab": {
          "base_uri": "https://localhost:8080/",
          "height": 447
        },
        "id": "Ogdu1xUG505Q",
        "outputId": "f5fe4df5-36ef-40d4-df37-487bdc806c20"
      },
      "execution_count": 13,
      "outputs": [
        {
          "output_type": "execute_result",
          "data": {
            "text/plain": [
              "[<matplotlib.lines.Line2D at 0x7faab652d8a0>]"
            ]
          },
          "metadata": {},
          "execution_count": 13
        },
        {
          "output_type": "display_data",
          "data": {
            "text/plain": [
              "<Figure size 640x480 with 1 Axes>"
            ],
            "image/png": "[encoded data removed]"
          },
          "metadata": {}
        }
      ]
    },
    {
      "cell_type": "code",
      "source": [
        "plt.plot(tt_loss[6:50]/256)"
      ],
      "metadata": {
        "colab": {
          "base_uri": "https://localhost:8080/",
          "height": 447
        },
        "id": "nE5bZwsJ7ZC9",
        "outputId": "320990e2-f68f-4134-b146-7d339a68da08"
      },
      "execution_count": 14,
      "outputs": [
        {
          "output_type": "execute_result",
          "data": {
            "text/plain": [
              "[<matplotlib.lines.Line2D at 0x7faab037cc40>]"
            ]
          },
          "metadata": {},
          "execution_count": 14
        },
        {
          "output_type": "display_data",
          "data": {
            "text/plain": [
              "<Figure size 640x480 with 1 Axes>"
            ],
            "image/png": "[encoded data removed]"
          },
          "metadata": {}
        }
      ]
    },
    {
      "cell_type": "code",
      "source": [
        "plt.plot(ff_loss.cpu().detach().numpy()[6:50])"
      ],
      "metadata": {
        "colab": {
          "base_uri": "https://localhost:8080/",
          "height": 447
        },
        "id": "FUleJirp7sZh",
        "outputId": "c9b6126e-01d2-4fc2-9df8-18a7bb6efd66"
      },
      "execution_count": 15,
      "outputs": [
        {
          "output_type": "execute_result",
          "data": {
            "text/plain": [
              "[<matplotlib.lines.Line2D at 0x7faab03dcd60>]"
            ]
          },
          "metadata": {},
          "execution_count": 15
        },
        {
          "output_type": "display_data",
          "data": {
            "text/plain": [
              "<Figure size 640x480 with 1 Axes>"
            ],
            "image/png": "[encoded data removed]"
          },
          "metadata": {}
        }
      ]
    },
    {
      "cell_type": "code",
      "execution_count": 16,
      "metadata": {
        "colab": {
          "base_uri": "https://localhost:8080/"
        },
        "id": "Sgw8uhWz50Xy",
        "outputId": "335d27e0-4cbb-432f-d7cd-ea42d627e508"
      },
      "outputs": [
        {
          "output_type": "execute_result",
          "data": {
            "text/plain": [
              "tensor([9, 5, 4, 7, 2, 2, 6, 8, 4, 1, 1, 4, 2, 5, 9, 0, 0, 6, 6, 6, 7, 6, 5, 9,\n",
              "        5, 7, 0, 1, 2, 0, 7, 9, 4, 1, 7, 5, 1, 3, 4, 9, 8, 7, 6, 9, 5, 3, 9, 8,\n",
              "        3, 2, 6, 5, 4, 4, 1, 8, 6, 0, 6, 5, 1, 3, 6, 3, 9, 0, 2, 2, 8, 9, 3, 2,\n",
              "        2, 6, 8, 5, 8, 5, 1, 2, 8, 0, 6, 6, 9, 8, 2, 6, 0, 6, 3, 5, 9, 5, 2, 1,\n",
              "        5, 0, 6, 0, 3, 3, 5, 1, 4, 7, 5, 4, 2, 8, 4, 9, 1, 8, 8, 2, 4, 5, 5, 7,\n",
              "        9, 8, 3, 0, 4, 0, 5, 2, 6, 2, 3, 8, 9, 1, 3, 5, 4, 2, 2, 4, 3, 1, 6, 5,\n",
              "        5, 3, 2, 3, 7, 4, 4, 9, 8, 1, 6, 6, 6, 1, 8, 9, 0, 4, 9, 3, 2, 2, 7, 4,\n",
              "        2, 2, 4, 4, 5, 5, 7, 9, 0, 7, 9, 6, 3, 5, 9, 9, 7, 0, 2, 1, 7, 0, 7, 2,\n",
              "        9, 8, 1, 5, 8, 8, 8, 9], device='cuda:0')"
            ]
          },
          "metadata": {},
          "execution_count": 16
        }
      ],
      "source": [
        "pred_num"
      ]
    },
    {
      "cell_type": "code",
      "execution_count": 17,
      "metadata": {
        "id": "AMahkWeCd6x5"
      },
      "outputs": [],
      "source": [
        "x_samps_unflat = torch.unflatten(x_samps, 1, (28,28))"
      ]
    },
    {
      "cell_type": "code",
      "execution_count": 18,
      "metadata": {
        "colab": {
          "base_uri": "https://localhost:8080/",
          "height": 1000
        },
        "id": "_XXn_TD8cLfT",
        "outputId": "e6ec3e5e-4262-43e8-802e-fbfd193b014b"
      },
      "outputs": [
        {
          "output_type": "display_data",
          "data": {
            "text/plain": [
              "<Figure size 640x480 with 1 Axes>"
            ],
            "image/png": "[encoded data removed]"
          },
          "metadata": {}
        },
        {
          "output_type": "display_data",
          "data": {
            "text/plain": [
              "<Figure size 640x480 with 1 Axes>"
            ],
            "image/png": "[encoded data removed]"
          },
          "metadata": {}
        },
        {
          "output_type": "display_data",
          "data": {
            "text/plain": [
              "<Figure size 640x480 with 1 Axes>"
            ],
            "image/png": "[encoded data removed]"
          },
          "metadata": {}
        },
        {
          "output_type": "display_data",
          "data": {
            "text/plain": [
              "<Figure size 640x480 with 1 Axes>"
            ],
            "image/png": "[encoded data removed]"
          },
          "metadata": {}
        },
        {
          "output_type": "display_data",
          "data": {
            "text/plain": [
              "<Figure size 640x480 with 1 Axes>"
            ],
            "image/png": "[encoded data removed]"
          },
          "metadata": {}
        },
        {
          "output_type": "display_data",
          "data": {
            "text/plain": [
              "<Figure size 640x480 with 1 Axes>"
            ],
            "image/png": "[encoded data removed]"
          },
          "metadata": {}
        },
        {
          "output_type": "display_data",
          "data": {
            "text/plain": [
              "<Figure size 640x480 with 1 Axes>"
            ],
            "image/png": "[encoded data removed]"
          },
          "metadata": {}
        },
        {
          "output_type": "display_data",
          "data": {
            "text/plain": [
              "<Figure size 640x480 with 1 Axes>"
            ],
            "image/png": "[encoded data removed]"
          },
          "metadata": {}
        },
        {
          "output_type": "display_data",
          "data": {
            "text/plain": [
              "<Figure size 640x480 with 1 Axes>"
            ],
            "image/png": "[encoded data removed]"
          },
          "metadata": {}
        }
      ],
      "source": [
        "for i in range(9):\n",
        "  plt.subplot(330 + 1 + i)\n",
        "  plt.imshow(x_samps_unflat[i].numpy(), cmap=plt.get_cmap('gray'))\n",
        "  plt.show()"
      ]
    },
    {
      "cell_type": "code",
      "execution_count": 19,
      "metadata": {
        "colab": {
          "base_uri": "https://localhost:8080/"
        },
        "id": "leOTfNylp3hJ",
        "outputId": "4e37aac5-a8b0-4895-ef40-143f0bff671b"
      },
      "outputs": [
        {
          "output_type": "execute_result",
          "data": {
            "text/plain": [
              "10.577684"
            ]
          },
          "metadata": {},
          "execution_count": 19
        }
      ],
      "source": [
        "max(rev_x[1])"
      ]
    },
    {
      "cell_type": "code",
      "execution_count": 20,
      "metadata": {
        "colab": {
          "base_uri": "https://localhost:8080/"
        },
        "id": "nHh2llMiqC5X",
        "outputId": "6cfee6f2-7a55-444d-8ecb-ef6d998839ab"
      },
      "outputs": [
        {
          "output_type": "execute_result",
          "data": {
            "text/plain": [
              "-1.7471366"
            ]
          },
          "metadata": {},
          "execution_count": 20
        }
      ],
      "source": [
        "min(rev_x[1])"
      ]
    },
    {
      "cell_type": "code",
      "execution_count": 21,
      "metadata": {
        "id": "G1Rrq0l1CTsj"
      },
      "outputs": [],
      "source": [
        "def normalize(values, actual_bounds, desired_bounds):\n",
        "    return [desired_bounds[0] + (x - actual_bounds[0]) * (desired_bounds[1] - desired_bounds[0]) / (actual_bounds[1] - actual_bounds[0]) for x in values]"
      ]
    },
    {
      "cell_type": "code",
      "execution_count": 22,
      "metadata": {
        "colab": {
          "base_uri": "https://localhost:8080/",
          "height": 430
        },
        "id": "1rXPIDMfCUuC",
        "outputId": "b1bd1f2a-9c46-41f0-c8d7-43e474dd055e"
      },
      "outputs": [
        {
          "output_type": "display_data",
          "data": {
            "text/plain": [
              "<Figure size 640x480 with 1 Axes>"
            ],
            "image/png": "[encoded data removed]"
          },
          "metadata": {}
        }
      ],
      "source": [
        "p = 5\n",
        "\n",
        "norm_x = normalize(\n",
        "    (255*rev_x[p]),\n",
        "    (min(rev_x[p]),max(rev_x[p])),\n",
        "    (0,255)\n",
        ")\n",
        "\n",
        "norm_x1 = np.trunc(norm_x)\n",
        "test2 = norm_x1[0:784]\n",
        "test3 = np.reshape(test2, (28,28))\n",
        "\n",
        "plt.imshow(test3, cmap=plt.get_cmap('gray'))\n",
        "plt.show()"
      ]
    },
    {
      "cell_type": "code",
      "execution_count": 23,
      "metadata": {
        "colab": {
          "base_uri": "https://localhost:8080/"
        },
        "id": "8BxEuA-_Atp9",
        "outputId": "bf73a193-3c04-4971-ca28-6a4666926705"
      },
      "outputs": [
        {
          "output_type": "execute_result",
          "data": {
            "text/plain": [
              "tensor([-0.0266, -0.0347, -0.0127, -0.0228,  0.0034,  0.8973,  0.0903, -0.0580,\n",
              "        -0.1310,  0.0353], device='cuda:0')"
            ]
          },
          "metadata": {},
          "execution_count": 23
        }
      ],
      "source": [
        "y_samps[p, -10:]"
      ]
    },
    {
      "cell_type": "code",
      "execution_count": 23,
      "metadata": {
        "id": "t17cK1PoEbuX"
      },
      "outputs": [],
      "source": []
    }
  ],
  "metadata": {
    "accelerator": "GPU",
    "colab": {
      "provenance": [],
      "include_colab_link": true
    },
    "kernelspec": {
      "display_name": "Python 3",
      "name": "python3"
    },
    "language_info": {
      "codemirror_mode": {
        "name": "ipython",
        "version": 3
      },
      "file_extension": ".py",
      "mimetype": "text/x-python",
      "name": "python",
      "nbconvert_exporter": "python",
      "pygments_lexer": "ipython3",
      "version": "3.7.3"
    }
  },
  "nbformat": 4,
  "nbformat_minor": 0
}