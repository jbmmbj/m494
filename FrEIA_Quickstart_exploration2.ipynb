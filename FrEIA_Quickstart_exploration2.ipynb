{
  "nbformat": 4,
  "nbformat_minor": 0,
  "metadata": {
    "colab": {
      "provenance": [],
      "authorship_tag": "ABX9TyNID2VCrq7mHVzvrci5ym0c",
      "include_colab_link": true
    },
    "kernelspec": {
      "name": "python3",
      "display_name": "Python 3"
    },
    "language_info": {
      "name": "python"
    }
  },
  "cells": [
    {
      "cell_type": "markdown",
      "metadata": {
        "id": "view-in-github",
        "colab_type": "text"
      },
      "source": [
        "<a href=\"https://colab.research.google.com/github/jbmmbj/m494/blob/main/FrEIA_Quickstart_exploration2.ipynb\" target=\"_parent\"><img src=\"https://colab.research.google.com/assets/colab-badge.svg\" alt=\"Open In Colab\"/></a>"
      ]
    },
    {
      "cell_type": "code",
      "execution_count": 2,
      "metadata": {
        "colab": {
          "base_uri": "https://localhost:8080/"
        },
        "id": "CV6gbyVWbsfo",
        "outputId": "22042ce5-316d-499a-c8be-65e172153f63"
      },
      "outputs": [
        {
          "output_type": "stream",
          "name": "stdout",
          "text": [
            "Collecting FrEIA\n",
            "  Downloading FrEIA-0.2.tar.gz (34 kB)\n",
            "  Preparing metadata (setup.py) ... \u001b[?25l\u001b[?25hdone\n",
            "Requirement already satisfied: numpy>=1.15.0 in /usr/local/lib/python3.10/dist-packages (from FrEIA) (1.23.5)\n",
            "Requirement already satisfied: scipy>=1.5 in /usr/local/lib/python3.10/dist-packages (from FrEIA) (1.11.4)\n",
            "Requirement already satisfied: torch>=1.0.0 in /usr/local/lib/python3.10/dist-packages (from FrEIA) (2.1.0+cu121)\n",
            "Requirement already satisfied: filelock in /usr/local/lib/python3.10/dist-packages (from torch>=1.0.0->FrEIA) (3.13.1)\n",
            "Requirement already satisfied: typing-extensions in /usr/local/lib/python3.10/dist-packages (from torch>=1.0.0->FrEIA) (4.5.0)\n",
            "Requirement already satisfied: sympy in /usr/local/lib/python3.10/dist-packages (from torch>=1.0.0->FrEIA) (1.12)\n",
            "Requirement already satisfied: networkx in /usr/local/lib/python3.10/dist-packages (from torch>=1.0.0->FrEIA) (3.2.1)\n",
            "Requirement already satisfied: jinja2 in /usr/local/lib/python3.10/dist-packages (from torch>=1.0.0->FrEIA) (3.1.3)\n",
            "Requirement already satisfied: fsspec in /usr/local/lib/python3.10/dist-packages (from torch>=1.0.0->FrEIA) (2023.6.0)\n",
            "Requirement already satisfied: triton==2.1.0 in /usr/local/lib/python3.10/dist-packages (from torch>=1.0.0->FrEIA) (2.1.0)\n",
            "Requirement already satisfied: MarkupSafe>=2.0 in /usr/local/lib/python3.10/dist-packages (from jinja2->torch>=1.0.0->FrEIA) (2.1.3)\n",
            "Requirement already satisfied: mpmath>=0.19 in /usr/local/lib/python3.10/dist-packages (from sympy->torch>=1.0.0->FrEIA) (1.3.0)\n",
            "Building wheels for collected packages: FrEIA\n",
            "  Building wheel for FrEIA (setup.py) ... \u001b[?25l\u001b[?25hdone\n",
            "  Created wheel for FrEIA: filename=FrEIA-0.2-py3-none-any.whl size=42759 sha256=be23d860b75b32bab2de1443ecd68ed52492c407f94620cbcea934e684620abf\n",
            "  Stored in directory: /root/.cache/pip/wheels/81/a8/e2/d532a76f72108ac4a340cbe3f86b4f591abfdbd75209a5badb\n",
            "Successfully built FrEIA\n",
            "Installing collected packages: FrEIA\n",
            "Successfully installed FrEIA-0.2\n"
          ]
        }
      ],
      "source": [
        "pip install FrEIA"
      ]
    },
    {
      "cell_type": "code",
      "source": [
        "\n",
        "# standard imports\n",
        "import numpy as np\n",
        "import pandas as pd\n",
        "import torch\n",
        "import torch.nn as nn\n",
        "from sklearn.datasets import make_moons\n",
        "\n",
        "# FrEIA imports\n",
        "import FrEIA.framework as Ff\n",
        "import FrEIA.modules as Fm\n",
        "\n",
        "BATCHSIZE = 100\n",
        "N_DIM = 4\n",
        "\n",
        "# we define a subnet for use inside an affine coupling block\n",
        "# for more detailed information see the full tutorial\n",
        "def subnet_fc(dims_in, dims_out):\n",
        "    return nn.Sequential(nn.Linear(dims_in, 512), nn.ReLU(),\n",
        "                         nn.Linear(512,  dims_out))\n",
        "\n",
        "# a simple chain of operations is collected by ReversibleSequential\n",
        "inn = Ff.SequenceINN(N_DIM)\n",
        "for k in range(8):\n",
        "    inn.append(Fm.AllInOneBlock, subnet_constructor=subnet_fc, permute_soft=True)\n",
        "\n",
        "optimizer = torch.optim.Adam(inn.parameters(), lr=0.001)\n",
        "\n",
        "# a very basic training loop\n",
        "for i in range(1000):\n",
        "    optimizer.zero_grad()\n",
        "    # sample data from the moons distribution\n",
        "    data, label = make_moons(n_samples=BATCHSIZE, noise=0.05)\n",
        "    x = torch.Tensor(data)\n",
        "\n",
        "    pad_x = torch.zeros(100,2)\n",
        "    pad_x += pad_x + 0.05 * torch.randn(100, 2)\n",
        "    x = torch.cat((x,pad_x), dim=1)\n",
        "\n",
        "    label = label.reshape(100, 1)\n",
        "    label = np.concatenate(label)\n",
        "    one_h = pd.get_dummies(label)\n",
        "    one_h = one_h.to_numpy()\n",
        "    y = torch.Tensor(one_h)\n",
        "    y += y + 0.1 * torch.randn(100, 2)\n",
        "\n",
        "    # pass to INN and get transformed variable z and log Jacobian determinant\n",
        "    z, log_jac_det = inn(x)\n",
        "\n",
        "    cat_z = torch.cat((z, y), dim=1)\n",
        "\n",
        "    # calculate the negative log-likelihood of the model with a standard normal prior\n",
        "    loss = 0.5*torch.sum(cat_z**2, 1) - log_jac_det\n",
        "    loss = loss.mean() / N_DIM\n",
        "    # backpropagate and update the weights\n",
        "    loss.backward()\n",
        "    optimizer.step()\n",
        "\n",
        "# sample from the INN by sampling from a standard normal and transforming\n",
        "# it in the reverse direction\n",
        "z = torch.randn(BATCHSIZE, N_DIM)\n",
        "samples, _ = inn(z, rev=True)"
      ],
      "metadata": {
        "id": "_-64IM1ub13m"
      },
      "execution_count": 40,
      "outputs": []
    },
    {
      "cell_type": "code",
      "source": [
        "label = label.reshape(100, 1)\n",
        "label = np.concatenate(label)\n",
        "one_h = pd.get_dummies(label)\n",
        "one_h = one_h.to_numpy()\n",
        "y = torch.Tensor(one_h)"
      ],
      "metadata": {
        "id": "n_LV22yF2xq9"
      },
      "execution_count": null,
      "outputs": []
    },
    {
      "cell_type": "code",
      "source": [
        "y + 0.1 * torch.randn(100, 2)"
      ],
      "metadata": {
        "id": "E8Lhy1phZMjB"
      },
      "execution_count": null,
      "outputs": []
    },
    {
      "cell_type": "code",
      "source": [
        "\n",
        "data, label = make_moons(n_samples=BATCHSIZE, noise=0.05)\n",
        "x = torch.Tensor(data)\n",
        "x.shape"
      ],
      "metadata": {
        "colab": {
          "base_uri": "https://localhost:8080/"
        },
        "id": "sBJ_mtBLZWyL",
        "outputId": "3adc2cae-ac8c-4d3f-d099-440f1d2380ad"
      },
      "execution_count": null,
      "outputs": [
        {
          "output_type": "execute_result",
          "data": {
            "text/plain": [
              "torch.Size([100, 2])"
            ]
          },
          "metadata": {},
          "execution_count": 9
        }
      ]
    },
    {
      "cell_type": "code",
      "source": [
        "pad_x.shape"
      ],
      "metadata": {
        "id": "JRCj8rP3ZgQM",
        "outputId": "5ead671f-5a7c-4f2a-9a23-4b60fef011a8",
        "colab": {
          "base_uri": "https://localhost:8080/"
        }
      },
      "execution_count": null,
      "outputs": [
        {
          "output_type": "execute_result",
          "data": {
            "text/plain": [
              "torch.Size([100, 2])"
            ]
          },
          "metadata": {},
          "execution_count": 10
        }
      ]
    },
    {
      "cell_type": "code",
      "source": [
        "torch.cat((x,pad_x), dim=1)"
      ],
      "metadata": {
        "colab": {
          "base_uri": "https://localhost:8080/",
          "height": 263
        },
        "id": "Altgxlpfqs1i",
        "outputId": "04b86439-e7c4-4e5b-8895-ded3f4657359"
      },
      "execution_count": 1,
      "outputs": [
        {
          "output_type": "error",
          "ename": "NameError",
          "evalue": "name 'torch' is not defined",
          "traceback": [
            "\u001b[0;31m---------------------------------------------------------------------------\u001b[0m",
            "\u001b[0;31mNameError\u001b[0m                                 Traceback (most recent call last)",
            "\u001b[0;32m<ipython-input-1-2089013c2935>\u001b[0m in \u001b[0;36m<cell line: 1>\u001b[0;34m()\u001b[0m\n\u001b[0;32m----> 1\u001b[0;31m \u001b[0mtorch\u001b[0m\u001b[0;34m.\u001b[0m\u001b[0mcat\u001b[0m\u001b[0;34m(\u001b[0m\u001b[0;34m(\u001b[0m\u001b[0mx\u001b[0m\u001b[0;34m,\u001b[0m\u001b[0mpad_x\u001b[0m\u001b[0;34m)\u001b[0m\u001b[0;34m,\u001b[0m \u001b[0mdim\u001b[0m\u001b[0;34m=\u001b[0m\u001b[0;36m1\u001b[0m\u001b[0;34m)\u001b[0m\u001b[0;34m\u001b[0m\u001b[0;34m\u001b[0m\u001b[0m\n\u001b[0m",
            "\u001b[0;31mNameError\u001b[0m: name 'torch' is not defined"
          ]
        }
      ]
    },
    {
      "cell_type": "code",
      "source": [
        "z, log_jac_det = inn(x)"
      ],
      "metadata": {
        "id": "XMKbEScRcCI3"
      },
      "execution_count": null,
      "outputs": []
    },
    {
      "cell_type": "code",
      "source": [
        "\n",
        "%matplotlib inline\n",
        "import matplotlib.pyplot as plt\n",
        "plt.style.use('seaborn-whitegrid')\n",
        "import numpy as np"
      ],
      "metadata": {
        "colab": {
          "base_uri": "https://localhost:8080/"
        },
        "id": "DpvoalZYcgJt",
        "outputId": "2fff72d3-7917-418c-deb3-fa5679f925fb"
      },
      "execution_count": 15,
      "outputs": [
        {
          "output_type": "stream",
          "name": "stderr",
          "text": [
            "<ipython-input-15-cd9e54b682e8>:3: MatplotlibDeprecationWarning: The seaborn styles shipped by Matplotlib are deprecated since 3.6, as they no longer correspond to the styles shipped by seaborn. However, they will remain available as 'seaborn-v0_8-<style>'. Alternatively, directly use the seaborn API instead.\n",
            "  plt.style.use('seaborn-whitegrid')\n"
          ]
        }
      ]
    },
    {
      "cell_type": "code",
      "source": [
        "data, label = make_moons(n_samples=BATCHSIZE, noise=0.05)"
      ],
      "metadata": {
        "id": "nmtJJK6QVDYq"
      },
      "execution_count": null,
      "outputs": []
    },
    {
      "cell_type": "code",
      "source": [
        "plt.plot(data[:,0], data[:,1], 'o', color='black');"
      ],
      "metadata": {
        "colab": {
          "base_uri": "https://localhost:8080/",
          "height": 234
        },
        "id": "sGm9kYM3c7w2",
        "outputId": "b2afff1a-da58-421e-bc9b-c0658c5c9f1d"
      },
      "execution_count": null,
      "outputs": [
        {
          "output_type": "display_data",
          "data": {
            "text/plain": [
              "<Figure size 640x480 with 1 Axes>"
            ],
            "image/png": "[encoded data removed]"
          },
          "metadata": {}
        }
      ]
    },
    {
      "cell_type": "code",
      "source": [
        "q = samples.detach().numpy()"
      ],
      "metadata": {
        "id": "T-Zb1zXmfd-r"
      },
      "execution_count": null,
      "outputs": []
    },
    {
      "cell_type": "code",
      "source": [
        "plt.plot(q[:,0], q[:,1], 'o', color='black');"
      ],
      "metadata": {
        "colab": {
          "base_uri": "https://localhost:8080/",
          "height": 237
        },
        "id": "5iA7t9I1fUT_",
        "outputId": "50d3b1b2-0392-4023-adb6-0b060214af73"
      },
      "execution_count": null,
      "outputs": [
        {
          "output_type": "display_data",
          "data": {
            "text/plain": [
              "<Figure size 640x480 with 1 Axes>"
            ],
            "image/png": "[encoded data removed]"
          },
          "metadata": {}
        }
      ]
    },
    {
      "cell_type": "code",
      "source": [
        "log_jac_det.shape"
      ],
      "metadata": {
        "colab": {
          "base_uri": "https://localhost:8080/"
        },
        "id": "-psH9ctMgTka",
        "outputId": "4f8381be-6384-43a0-c6b2-59a15a6ac961"
      },
      "execution_count": null,
      "outputs": [
        {
          "output_type": "execute_result",
          "data": {
            "text/plain": [
              "torch.Size([100])"
            ]
          },
          "metadata": {},
          "execution_count": 37
        }
      ]
    },
    {
      "cell_type": "code",
      "source": [
        "import pandas as pd"
      ],
      "metadata": {
        "id": "Vw8yK7vYODob"
      },
      "execution_count": null,
      "outputs": []
    },
    {
      "cell_type": "code",
      "source": [
        "data, label = make_moons(n_samples=BATCHSIZE, noise=0.05)\n",
        "label = label.reshape(100, 1)\n",
        "label = np.concatenate(label)\n",
        "label"
      ],
      "metadata": {
        "colab": {
          "base_uri": "https://localhost:8080/"
        },
        "id": "0xt--aBtOh3R",
        "outputId": "f2d24f4b-6627-4779-ca22-1cf2116a5124"
      },
      "execution_count": null,
      "outputs": [
        {
          "output_type": "execute_result",
          "data": {
            "text/plain": [
              "array([0, 1, 0, 1, 0, 0, 0, 1, 0, 1, 0, 1, 1, 1, 0, 1, 0, 1, 1, 0, 1, 0,\n",
              "       0, 0, 1, 1, 0, 1, 1, 0, 1, 0, 1, 1, 0, 1, 0, 1, 0, 0, 0, 1, 0, 0,\n",
              "       0, 0, 1, 0, 1, 0, 0, 1, 0, 0, 1, 0, 1, 0, 1, 0, 0, 0, 1, 0, 1, 0,\n",
              "       0, 1, 1, 1, 0, 1, 0, 0, 1, 0, 1, 1, 0, 1, 1, 1, 0, 1, 0, 0, 1, 1,\n",
              "       0, 1, 1, 1, 1, 0, 1, 0, 0, 1, 1, 1])"
            ]
          },
          "metadata": {},
          "execution_count": 59
        }
      ]
    },
    {
      "cell_type": "code",
      "source": [
        "\n",
        "one_h = pd.get_dummies(label)"
      ],
      "metadata": {
        "id": "SgRTH7plN5hL"
      },
      "execution_count": null,
      "outputs": []
    },
    {
      "cell_type": "code",
      "source": [
        "one_h"
      ],
      "metadata": {
        "colab": {
          "base_uri": "https://localhost:8080/",
          "height": 423
        },
        "id": "oE1WXJ02PgWj",
        "outputId": "49f4d3d2-ab72-4cbf-ebab-9d37b558f229"
      },
      "execution_count": null,
      "outputs": [
        {
          "output_type": "execute_result",
          "data": {
            "text/plain": [
              "    0  1\n",
              "0   1  0\n",
              "1   0  1\n",
              "2   1  0\n",
              "3   0  1\n",
              "4   1  0\n",
              ".. .. ..\n",
              "95  1  0\n",
              "96  1  0\n",
              "97  0  1\n",
              "98  0  1\n",
              "99  0  1\n",
              "\n",
              "[100 rows x 2 columns]"
            ],
            "text/html": [
              "\n",
              "  <div id=\"df-9fd1f679-8e25-4699-9a63-7d89a0c0a2cb\" class=\"colab-df-container\">\n",
              "    <div>\n",
              "<style scoped>\n",
              "    .dataframe tbody tr th:only-of-type {\n",
              "        vertical-align: middle;\n",
              "    }\n",
              "\n",
              "    .dataframe tbody tr th {\n",
              "        vertical-align: top;\n",
              "    }\n",
              "\n",
              "    .dataframe thead th {\n",
              "        text-align: right;\n",
              "    }\n",
              "</style>\n",
              "<table border=\"1\" class=\"dataframe\">\n",
              "  <thead>\n",
              "    <tr style=\"text-align: right;\">\n",
              "      <th></th>\n",
              "      <th>0</th>\n",
              "      <th>1</th>\n",
              "    </tr>\n",
              "  </thead>\n",
              "  <tbody>\n",
              "    <tr>\n",
              "      <th>0</th>\n",
              "      <td>1</td>\n",
              "      <td>0</td>\n",
              "    </tr>\n",
              "    <tr>\n",
              "      <th>1</th>\n",
              "      <td>0</td>\n",
              "      <td>1</td>\n",
              "    </tr>\n",
              "    <tr>\n",
              "      <th>2</th>\n",
              "      <td>1</td>\n",
              "      <td>0</td>\n",
              "    </tr>\n",
              "    <tr>\n",
              "      <th>3</th>\n",
              "      <td>0</td>\n",
              "      <td>1</td>\n",
              "    </tr>\n",
              "    <tr>\n",
              "      <th>4</th>\n",
              "      <td>1</td>\n",
              "      <td>0</td>\n",
              "    </tr>\n",
              "    <tr>\n",
              "      <th>...</th>\n",
              "      <td>...</td>\n",
              "      <td>...</td>\n",
              "    </tr>\n",
              "    <tr>\n",
              "      <th>95</th>\n",
              "      <td>1</td>\n",
              "      <td>0</td>\n",
              "    </tr>\n",
              "    <tr>\n",
              "      <th>96</th>\n",
              "      <td>1</td>\n",
              "      <td>0</td>\n",
              "    </tr>\n",
              "    <tr>\n",
              "      <th>97</th>\n",
              "      <td>0</td>\n",
              "      <td>1</td>\n",
              "    </tr>\n",
              "    <tr>\n",
              "      <th>98</th>\n",
              "      <td>0</td>\n",
              "      <td>1</td>\n",
              "    </tr>\n",
              "    <tr>\n",
              "      <th>99</th>\n",
              "      <td>0</td>\n",
              "      <td>1</td>\n",
              "    </tr>\n",
              "  </tbody>\n",
              "</table>\n",
              "<p>100 rows × 2 columns</p>\n",
              "</div>\n",
              "    <div class=\"colab-df-buttons\">\n",
              "\n",
              "  <div class=\"colab-df-container\">\n",
              "    <button class=\"colab-df-convert\" onclick=\"convertToInteractive('df-9fd1f679-8e25-4699-9a63-7d89a0c0a2cb')\"\n",
              "            title=\"Convert this dataframe to an interactive table.\"\n",
              "            style=\"display:none;\">\n",
              "\n",
              "  <svg xmlns=\"http://www.w3.org/2000/svg\" height=\"24px\" viewBox=\"0 -960 960 960\">\n",
              "    <path d=\"M120-120v-720h720v720H120Zm60-500h600v-160H180v160Zm220 220h160v-160H400v160Zm0 220h160v-160H400v160ZM180-400h160v-160H180v160Zm440 0h160v-160H620v160ZM180-180h160v-160H180v160Zm440 0h160v-160H620v160Z\"/>\n",
              "  </svg>\n",
              "    </button>\n",
              "\n",
              "  <style>\n",
              "    .colab-df-container {\n",
              "      display:flex;\n",
              "      gap: 12px;\n",
              "    }\n",
              "\n",
              "    .colab-df-convert {\n",
              "      background-color: #E8F0FE;\n",
              "      border: none;\n",
              "      border-radius: 50%;\n",
              "      cursor: pointer;\n",
              "      display: none;\n",
              "      fill: #1967D2;\n",
              "      height: 32px;\n",
              "      padding: 0 0 0 0;\n",
              "      width: 32px;\n",
              "    }\n",
              "\n",
              "    .colab-df-convert:hover {\n",
              "      background-color: #E2EBFA;\n",
              "      box-shadow: 0px 1px 2px rgba(60, 64, 67, 0.3), 0px 1px 3px 1px rgba(60, 64, 67, 0.15);\n",
              "      fill: #174EA6;\n",
              "    }\n",
              "\n",
              "    .colab-df-buttons div {\n",
              "      margin-bottom: 4px;\n",
              "    }\n",
              "\n",
              "    [theme=dark] .colab-df-convert {\n",
              "      background-color: #3B4455;\n",
              "      fill: #D2E3FC;\n",
              "    }\n",
              "\n",
              "    [theme=dark] .colab-df-convert:hover {\n",
              "      background-color: #434B5C;\n",
              "      box-shadow: 0px 1px 3px 1px rgba(0, 0, 0, 0.15);\n",
              "      filter: drop-shadow(0px 1px 2px rgba(0, 0, 0, 0.3));\n",
              "      fill: #FFFFFF;\n",
              "    }\n",
              "  </style>\n",
              "\n",
              "    <script>\n",
              "      const buttonEl =\n",
              "        document.querySelector('#df-9fd1f679-8e25-4699-9a63-7d89a0c0a2cb button.colab-df-convert');\n",
              "      buttonEl.style.display =\n",
              "        google.colab.kernel.accessAllowed ? 'block' : 'none';\n",
              "\n",
              "      async function convertToInteractive(key) {\n",
              "        const element = document.querySelector('#df-9fd1f679-8e25-4699-9a63-7d89a0c0a2cb');\n",
              "        const dataTable =\n",
              "          await google.colab.kernel.invokeFunction('convertToInteractive',\n",
              "                                                    [key], {});\n",
              "        if (!dataTable) return;\n",
              "\n",
              "        const docLinkHtml = 'Like what you see? Visit the ' +\n",
              "          '<a target=\"_blank\" href=https://colab.research.google.com/notebooks/data_table.ipynb>data table notebook</a>'\n",
              "          + ' to learn more about interactive tables.';\n",
              "        element.innerHTML = '';\n",
              "        dataTable['output_type'] = 'display_data';\n",
              "        await google.colab.output.renderOutput(dataTable, element);\n",
              "        const docLink = document.createElement('div');\n",
              "        docLink.innerHTML = docLinkHtml;\n",
              "        element.appendChild(docLink);\n",
              "      }\n",
              "    </script>\n",
              "  </div>\n",
              "\n",
              "\n",
              "<div id=\"df-9f0826ef-8a0e-4300-8906-897c913754e8\">\n",
              "  <button class=\"colab-df-quickchart\" onclick=\"quickchart('df-9f0826ef-8a0e-4300-8906-897c913754e8')\"\n",
              "            title=\"Suggest charts\"\n",
              "            style=\"display:none;\">\n",
              "\n",
              "<svg xmlns=\"http://www.w3.org/2000/svg\" height=\"24px\"viewBox=\"0 0 24 24\"\n",
              "     width=\"24px\">\n",
              "    <g>\n",
              "        <path d=\"M19 3H5c-1.1 0-2 .9-2 2v14c0 1.1.9 2 2 2h14c1.1 0 2-.9 2-2V5c0-1.1-.9-2-2-2zM9 17H7v-7h2v7zm4 0h-2V7h2v10zm4 0h-2v-4h2v4z\"/>\n",
              "    </g>\n",
              "</svg>\n",
              "  </button>\n",
              "\n",
              "<style>\n",
              "  .colab-df-quickchart {\n",
              "      --bg-color: #E8F0FE;\n",
              "      --fill-color: #1967D2;\n",
              "      --hover-bg-color: #E2EBFA;\n",
              "      --hover-fill-color: #174EA6;\n",
              "      --disabled-fill-color: #AAA;\n",
              "      --disabled-bg-color: #DDD;\n",
              "  }\n",
              "\n",
              "  [theme=dark] .colab-df-quickchart {\n",
              "      --bg-color: #3B4455;\n",
              "      --fill-color: #D2E3FC;\n",
              "      --hover-bg-color: #434B5C;\n",
              "      --hover-fill-color: #FFFFFF;\n",
              "      --disabled-bg-color: #3B4455;\n",
              "      --disabled-fill-color: #666;\n",
              "  }\n",
              "\n",
              "  .colab-df-quickchart {\n",
              "    background-color: var(--bg-color);\n",
              "    border: none;\n",
              "    border-radius: 50%;\n",
              "    cursor: pointer;\n",
              "    display: none;\n",
              "    fill: var(--fill-color);\n",
              "    height: 32px;\n",
              "    padding: 0;\n",
              "    width: 32px;\n",
              "  }\n",
              "\n",
              "  .colab-df-quickchart:hover {\n",
              "    background-color: var(--hover-bg-color);\n",
              "    box-shadow: 0 1px 2px rgba(60, 64, 67, 0.3), 0 1px 3px 1px rgba(60, 64, 67, 0.15);\n",
              "    fill: var(--button-hover-fill-color);\n",
              "  }\n",
              "\n",
              "  .colab-df-quickchart-complete:disabled,\n",
              "  .colab-df-quickchart-complete:disabled:hover {\n",
              "    background-color: var(--disabled-bg-color);\n",
              "    fill: var(--disabled-fill-color);\n",
              "    box-shadow: none;\n",
              "  }\n",
              "\n",
              "  .colab-df-spinner {\n",
              "    border: 2px solid var(--fill-color);\n",
              "    border-color: transparent;\n",
              "    border-bottom-color: var(--fill-color);\n",
              "    animation:\n",
              "      spin 1s steps(1) infinite;\n",
              "  }\n",
              "\n",
              "  @keyframes spin {\n",
              "    0% {\n",
              "      border-color: transparent;\n",
              "      border-bottom-color: var(--fill-color);\n",
              "      border-left-color: var(--fill-color);\n",
              "    }\n",
              "    20% {\n",
              "      border-color: transparent;\n",
              "      border-left-color: var(--fill-color);\n",
              "      border-top-color: var(--fill-color);\n",
              "    }\n",
              "    30% {\n",
              "      border-color: transparent;\n",
              "      border-left-color: var(--fill-color);\n",
              "      border-top-color: var(--fill-color);\n",
              "      border-right-color: var(--fill-color);\n",
              "    }\n",
              "    40% {\n",
              "      border-color: transparent;\n",
              "      border-right-color: var(--fill-color);\n",
              "      border-top-color: var(--fill-color);\n",
              "    }\n",
              "    60% {\n",
              "      border-color: transparent;\n",
              "      border-right-color: var(--fill-color);\n",
              "    }\n",
              "    80% {\n",
              "      border-color: transparent;\n",
              "      border-right-color: var(--fill-color);\n",
              "      border-bottom-color: var(--fill-color);\n",
              "    }\n",
              "    90% {\n",
              "      border-color: transparent;\n",
              "      border-bottom-color: var(--fill-color);\n",
              "    }\n",
              "  }\n",
              "</style>\n",
              "\n",
              "  <script>\n",
              "    async function quickchart(key) {\n",
              "      const quickchartButtonEl =\n",
              "        document.querySelector('#' + key + ' button');\n",
              "      quickchartButtonEl.disabled = true;  // To prevent multiple clicks.\n",
              "      quickchartButtonEl.classList.add('colab-df-spinner');\n",
              "      try {\n",
              "        const charts = await google.colab.kernel.invokeFunction(\n",
              "            'suggestCharts', [key], {});\n",
              "      } catch (error) {\n",
              "        console.error('Error during call to suggestCharts:', error);\n",
              "      }\n",
              "      quickchartButtonEl.classList.remove('colab-df-spinner');\n",
              "      quickchartButtonEl.classList.add('colab-df-quickchart-complete');\n",
              "    }\n",
              "    (() => {\n",
              "      let quickchartButtonEl =\n",
              "        document.querySelector('#df-9f0826ef-8a0e-4300-8906-897c913754e8 button');\n",
              "      quickchartButtonEl.style.display =\n",
              "        google.colab.kernel.accessAllowed ? 'block' : 'none';\n",
              "    })();\n",
              "  </script>\n",
              "</div>\n",
              "\n",
              "  <div id=\"id_29baaa6a-64fe-4d26-8ad9-3e302bd6eb7c\">\n",
              "    <style>\n",
              "      .colab-df-generate {\n",
              "        background-color: #E8F0FE;\n",
              "        border: none;\n",
              "        border-radius: 50%;\n",
              "        cursor: pointer;\n",
              "        display: none;\n",
              "        fill: #1967D2;\n",
              "        height: 32px;\n",
              "        padding: 0 0 0 0;\n",
              "        width: 32px;\n",
              "      }\n",
              "\n",
              "      .colab-df-generate:hover {\n",
              "        background-color: #E2EBFA;\n",
              "        box-shadow: 0px 1px 2px rgba(60, 64, 67, 0.3), 0px 1px 3px 1px rgba(60, 64, 67, 0.15);\n",
              "        fill: #174EA6;\n",
              "      }\n",
              "\n",
              "      [theme=dark] .colab-df-generate {\n",
              "        background-color: #3B4455;\n",
              "        fill: #D2E3FC;\n",
              "      }\n",
              "\n",
              "      [theme=dark] .colab-df-generate:hover {\n",
              "        background-color: #434B5C;\n",
              "        box-shadow: 0px 1px 3px 1px rgba(0, 0, 0, 0.15);\n",
              "        filter: drop-shadow(0px 1px 2px rgba(0, 0, 0, 0.3));\n",
              "        fill: #FFFFFF;\n",
              "      }\n",
              "    </style>\n",
              "    <button class=\"colab-df-generate\" onclick=\"generateWithVariable('one_h')\"\n",
              "            title=\"Generate code using this dataframe.\"\n",
              "            style=\"display:none;\">\n",
              "\n",
              "  <svg xmlns=\"http://www.w3.org/2000/svg\" height=\"24px\"viewBox=\"0 0 24 24\"\n",
              "       width=\"24px\">\n",
              "    <path d=\"M7,19H8.4L18.45,9,17,7.55,7,17.6ZM5,21V16.75L18.45,3.32a2,2,0,0,1,2.83,0l1.4,1.43a1.91,1.91,0,0,1,.58,1.4,1.91,1.91,0,0,1-.58,1.4L9.25,21ZM18.45,9,17,7.55Zm-12,3A5.31,5.31,0,0,0,4.9,8.1,5.31,5.31,0,0,0,1,6.5,5.31,5.31,0,0,0,4.9,4.9,5.31,5.31,0,0,0,6.5,1,5.31,5.31,0,0,0,8.1,4.9,5.31,5.31,0,0,0,12,6.5,5.46,5.46,0,0,0,6.5,12Z\"/>\n",
              "  </svg>\n",
              "    </button>\n",
              "    <script>\n",
              "      (() => {\n",
              "      const buttonEl =\n",
              "        document.querySelector('#id_29baaa6a-64fe-4d26-8ad9-3e302bd6eb7c button.colab-df-generate');\n",
              "      buttonEl.style.display =\n",
              "        google.colab.kernel.accessAllowed ? 'block' : 'none';\n",
              "\n",
              "      buttonEl.onclick = () => {\n",
              "        google.colab.notebook.generateWithVariable('one_h');\n",
              "      }\n",
              "      })();\n",
              "    </script>\n",
              "  </div>\n",
              "\n",
              "    </div>\n",
              "  </div>\n"
            ]
          },
          "metadata": {},
          "execution_count": 61
        }
      ]
    },
    {
      "cell_type": "code",
      "source": [
        "\n",
        "one_h = one_h.to_numpy()"
      ],
      "metadata": {
        "id": "KM72-g3UQQ5-"
      },
      "execution_count": null,
      "outputs": []
    },
    {
      "cell_type": "code",
      "source": [
        "one_h"
      ],
      "metadata": {
        "id": "1x7SVMx4Qy24"
      },
      "execution_count": null,
      "outputs": []
    },
    {
      "cell_type": "code",
      "source": [
        "\n",
        "label = label.reshape(100, 1)\n",
        "label = np.concatenate(label)\n",
        "one_h = pd.get_dummies(label)\n",
        "one_h = one_h.to_numpy()\n",
        "y = torch.Tensor(one_h)"
      ],
      "metadata": {
        "id": "X4_D6NvlhwAe"
      },
      "execution_count": null,
      "outputs": []
    },
    {
      "cell_type": "code",
      "source": [
        "cat_z = torch.cat((z, y), dim=1)\n",
        "cat_z"
      ],
      "metadata": {
        "id": "UEXaBcv4Swgb"
      },
      "execution_count": null,
      "outputs": []
    },
    {
      "cell_type": "code",
      "source": [
        "0.5*torch.sum(z**2, 1)"
      ],
      "metadata": {
        "id": "pffaygW9iOck"
      },
      "execution_count": null,
      "outputs": []
    },
    {
      "cell_type": "code",
      "source": [
        "qq = torch.cat((samples_1[:,:2], w[:,2:]), dim=1)"
      ],
      "metadata": {
        "id": "i2OSfQot8vgB"
      },
      "execution_count": 115,
      "outputs": []
    },
    {
      "cell_type": "code",
      "source": [
        "qq"
      ],
      "metadata": {
        "colab": {
          "base_uri": "https://localhost:8080/"
        },
        "id": "qkMjPabJAMjh",
        "outputId": "15c98aa4-6b1f-47a5-bf77-2aed43874fbd"
      },
      "execution_count": 117,
      "outputs": [
        {
          "output_type": "execute_result",
          "data": {
            "text/plain": [
              "tensor([[ 1.3313, -0.3889,  0.0000,  0.0000],\n",
              "        [ 1.7509, -0.2785,  0.0000,  1.0000],\n",
              "        [ 1.0834, -0.4390,  0.0000,  0.0000],\n",
              "        [ 1.5472, -0.3681,  0.0000,  0.0000],\n",
              "        [ 0.9228,  0.5603,  1.0000,  1.0000],\n",
              "        [ 0.2485,  0.9623,  0.0000,  1.0000],\n",
              "        [-0.0818,  0.8254,  0.0000,  1.0000],\n",
              "        [ 1.4598, -0.3611,  0.0000,  1.0000],\n",
              "        [ 0.9749,  0.2633,  1.0000,  0.0000],\n",
              "        [ 0.0715,  1.0423,  1.0000,  0.0000],\n",
              "        [ 0.7686,  0.6038,  1.0000,  0.0000],\n",
              "        [-0.3581,  0.8607,  0.0000,  0.0000],\n",
              "        [ 1.1751,  0.4539,  1.0000,  1.0000],\n",
              "        [ 1.6438, -0.2449,  0.0000,  0.0000],\n",
              "        [-0.1654,  1.0750,  1.0000,  0.0000],\n",
              "        [ 0.9577, -0.5331,  0.0000,  0.0000],\n",
              "        [ 0.7304, -0.0857,  0.0000,  1.0000],\n",
              "        [ 0.5648,  0.5697,  0.0000,  1.0000],\n",
              "        [ 0.2620,  1.0689,  1.0000,  0.0000],\n",
              "        [ 1.9313,  0.2463,  1.0000,  1.0000],\n",
              "        [ 1.9867,  0.1045,  1.0000,  0.0000],\n",
              "        [ 1.4326, -0.4364,  0.0000,  1.0000],\n",
              "        [ 0.7380,  0.8319,  1.0000,  0.0000],\n",
              "        [ 1.3795,  0.2085,  1.0000,  0.0000],\n",
              "        [ 1.3724, -0.4029,  0.0000,  0.0000],\n",
              "        [-0.2707,  0.9845,  0.0000,  0.0000],\n",
              "        [ 0.4087,  0.9743,  1.0000,  1.0000],\n",
              "        [ 0.8898,  0.8064,  1.0000,  1.0000],\n",
              "        [ 2.0724,  0.2148,  1.0000,  0.0000],\n",
              "        [ 1.8249, -0.1091,  1.0000,  0.0000],\n",
              "        [ 2.0633,  0.2905,  1.0000,  1.0000],\n",
              "        [ 0.4012,  0.9650,  1.0000,  0.0000],\n",
              "        [ 1.1626,  0.0613,  1.0000,  0.0000],\n",
              "        [ 0.7106,  0.8950,  1.0000,  1.0000],\n",
              "        [ 1.1533,  0.2954,  1.0000,  0.0000],\n",
              "        [ 1.3631,  0.2441,  1.0000,  0.0000],\n",
              "        [-0.2329,  0.9445,  0.0000,  0.0000],\n",
              "        [ 1.6841, -0.0548,  1.0000,  0.0000],\n",
              "        [-0.0958,  0.9278,  0.0000,  0.0000],\n",
              "        [ 0.3235,  1.0163,  1.0000,  0.0000],\n",
              "        [ 1.1889,  0.2786,  1.0000,  1.0000],\n",
              "        [ 0.3256,  0.6087,  0.0000,  0.0000],\n",
              "        [ 1.2092, -0.3754,  0.0000,  1.0000],\n",
              "        [ 1.9619,  0.1317,  1.0000,  0.0000],\n",
              "        [ 0.5515,  0.5691,  0.0000,  0.0000],\n",
              "        [ 0.5505,  0.3897,  0.0000,  0.0000],\n",
              "        [ 1.3666, -0.4082,  0.0000,  0.0000],\n",
              "        [ 0.4388,  0.0529,  0.0000,  0.0000],\n",
              "        [ 1.4058,  0.2654,  1.0000,  1.0000],\n",
              "        [ 1.8883, -0.1137,  0.0000,  0.0000],\n",
              "        [ 2.0405,  0.2256,  1.0000,  1.0000],\n",
              "        [ 2.0098,  0.1448,  1.0000,  0.0000],\n",
              "        [ 1.3886, -0.1122,  1.0000,  1.0000],\n",
              "        [ 1.2631,  0.1935,  1.0000,  0.0000],\n",
              "        [-0.2612,  0.9964,  0.0000,  1.0000],\n",
              "        [-0.0300,  1.0868,  1.0000,  0.0000],\n",
              "        [-0.2929,  0.9284,  0.0000,  0.0000],\n",
              "        [ 1.5923, -0.3689,  0.0000,  0.0000],\n",
              "        [ 1.3984, -0.2270,  1.0000,  0.0000],\n",
              "        [ 0.9300,  0.4518,  1.0000,  1.0000],\n",
              "        [ 0.9028, -0.3673,  0.0000,  1.0000],\n",
              "        [-0.6562,  0.8016,  0.0000,  0.0000],\n",
              "        [ 0.8210,  0.5387,  1.0000,  0.0000],\n",
              "        [ 0.5661,  0.2593,  0.0000,  0.0000],\n",
              "        [ 0.9226,  0.4997,  1.0000,  0.0000],\n",
              "        [ 0.6495,  0.8824,  1.0000,  1.0000],\n",
              "        [ 0.8575,  0.4524,  0.0000,  1.0000],\n",
              "        [ 0.7912,  0.3191,  0.0000,  1.0000],\n",
              "        [-0.2305,  0.9089,  0.0000,  1.0000],\n",
              "        [ 0.3578,  1.0537,  1.0000,  1.0000],\n",
              "        [ 0.5909,  0.9305,  1.0000,  0.0000],\n",
              "        [ 2.0049,  0.2263,  1.0000,  0.0000],\n",
              "        [-0.0239,  1.0217,  0.0000,  0.0000],\n",
              "        [ 1.6992, -0.1017,  1.0000,  0.0000],\n",
              "        [-0.2571,  0.9429,  0.0000,  0.0000],\n",
              "        [-0.3398,  1.0182,  0.0000,  0.0000],\n",
              "        [ 0.1120,  0.7835,  0.0000,  1.0000],\n",
              "        [ 2.0193,  0.2849,  1.0000,  0.0000],\n",
              "        [ 1.8411,  0.0682,  1.0000,  0.0000],\n",
              "        [ 0.7354,  0.6370,  1.0000,  0.0000],\n",
              "        [ 1.9260,  0.0304,  1.0000,  0.0000],\n",
              "        [ 1.7430,  0.1516,  1.0000,  1.0000],\n",
              "        [ 0.0726,  1.0312,  1.0000,  0.0000],\n",
              "        [ 1.9581,  0.1634,  1.0000,  0.0000],\n",
              "        [ 0.1331,  0.7131,  0.0000,  1.0000],\n",
              "        [ 0.9827,  0.3890,  1.0000,  1.0000],\n",
              "        [ 1.8380,  0.3128,  1.0000,  0.0000],\n",
              "        [ 0.0787,  1.0123,  0.0000,  1.0000],\n",
              "        [ 0.5550,  0.8622,  1.0000,  1.0000],\n",
              "        [ 1.1195, -0.4294,  0.0000,  0.0000],\n",
              "        [ 0.6051,  0.9008,  1.0000,  1.0000],\n",
              "        [ 0.4969,  0.8706,  1.0000,  0.0000],\n",
              "        [-0.0298,  0.9929,  0.0000,  0.0000],\n",
              "        [-0.5435,  0.8493,  0.0000,  0.0000],\n",
              "        [ 0.2189,  0.9797,  0.0000,  1.0000],\n",
              "        [ 1.8636,  0.2300,  1.0000,  1.0000],\n",
              "        [ 0.6841, -0.2369,  0.0000,  1.0000],\n",
              "        [ 0.4710,  0.9904,  1.0000,  1.0000],\n",
              "        [ 0.5003,  0.5964,  0.0000,  1.0000],\n",
              "        [ 1.7663, -0.1619,  0.0000,  1.0000]], grad_fn=<CatBackward0>)"
            ]
          },
          "metadata": {},
          "execution_count": 117
        }
      ]
    },
    {
      "cell_type": "code",
      "source": [
        "pp = samples_1[:, :2]"
      ],
      "metadata": {
        "id": "HWxUBUQaiboB"
      },
      "execution_count": 112,
      "outputs": []
    },
    {
      "cell_type": "code",
      "source": [
        "p = pp.detach().numpy()"
      ],
      "metadata": {
        "id": "fdnhco4OomgV"
      },
      "execution_count": 113,
      "outputs": []
    },
    {
      "cell_type": "code",
      "source": [
        "p"
      ],
      "metadata": {
        "id": "zY5QZ7bc2Fmi"
      },
      "execution_count": null,
      "outputs": []
    },
    {
      "cell_type": "code",
      "source": [
        "\n",
        "plt.plot(zeros[:,0], zeros[:,1], 'o', color='red');\n",
        "plt.plot(ones[:,0], ones[:,1], 'o', color='black');"
      ],
      "metadata": {
        "colab": {
          "base_uri": "https://localhost:8080/",
          "height": 237
        },
        "id": "qoLvJtdnojxM",
        "outputId": "765e2109-fa31-460e-8236-5bc2c09bcffa"
      },
      "execution_count": 105,
      "outputs": [
        {
          "output_type": "display_data",
          "data": {
            "text/plain": [
              "<Figure size 640x480 with 1 Axes>"
            ],
            "image/png": "[encoded data removed]"
          },
          "metadata": {}
        }
      ]
    },
    {
      "cell_type": "code",
      "source": [
        "plt.plot(p[:,0], p[:,1], 'o', color='black');"
      ],
      "metadata": {
        "colab": {
          "base_uri": "https://localhost:8080/",
          "height": 237
        },
        "id": "EQvoft_r_f3J",
        "outputId": "783c0b25-f4b4-4a77-eef1-4f758fd5236f"
      },
      "execution_count": 114,
      "outputs": [
        {
          "output_type": "display_data",
          "data": {
            "text/plain": [
              "<Figure size 640x480 with 1 Axes>"
            ],
            "image/png": "[encoded data removed]"
          },
          "metadata": {}
        }
      ]
    },
    {
      "cell_type": "code",
      "source": [
        "ones.shape"
      ],
      "metadata": {
        "colab": {
          "base_uri": "https://localhost:8080/"
        },
        "id": "QZYpe_AO_vjU",
        "outputId": "27b4714e-936f-4b06-e9c2-c8b5433a4b33"
      },
      "execution_count": 111,
      "outputs": [
        {
          "output_type": "execute_result",
          "data": {
            "text/plain": [
              "(40, 4)"
            ]
          },
          "metadata": {},
          "execution_count": 111
        }
      ]
    },
    {
      "cell_type": "code",
      "source": [
        "samples_1, _ = inn(w, rev=True)"
      ],
      "metadata": {
        "id": "jWy04r38DQad"
      },
      "execution_count": 48,
      "outputs": []
    },
    {
      "cell_type": "code",
      "source": [
        "samples_1"
      ],
      "metadata": {
        "id": "CV-Z28vtDaB8"
      },
      "execution_count": null,
      "outputs": []
    },
    {
      "cell_type": "code",
      "source": [
        "a = torch.empty(100, 2).uniform_(0, 1)"
      ],
      "metadata": {
        "id": "MsEB_ZosD8xe"
      },
      "execution_count": 42,
      "outputs": []
    },
    {
      "cell_type": "code",
      "source": [
        "b = torch.bernoulli(a)"
      ],
      "metadata": {
        "id": "tAczv5iIE334"
      },
      "execution_count": 43,
      "outputs": []
    },
    {
      "cell_type": "code",
      "source": [
        "b"
      ],
      "metadata": {
        "id": "clUCbn2JFL9R"
      },
      "execution_count": null,
      "outputs": []
    },
    {
      "cell_type": "code",
      "source": [
        "z = torch.randn(BATCHSIZE, 2)"
      ],
      "metadata": {
        "id": "9PRPbMwKIVk1"
      },
      "execution_count": 44,
      "outputs": []
    },
    {
      "cell_type": "code",
      "source": [
        "w = torch.cat((z,b), dim=1)\n",
        "w"
      ],
      "metadata": {
        "id": "OXpeKWcdIgTp"
      },
      "execution_count": null,
      "outputs": []
    },
    {
      "cell_type": "code",
      "source": [
        "w[:,2:]"
      ],
      "metadata": {
        "id": "bgjSbmK65zBg"
      },
      "execution_count": null,
      "outputs": []
    },
    {
      "cell_type": "code",
      "source": [
        "ww = torch.cat((pp, w[:,2:]), dim=1)\n",
        "ww"
      ],
      "metadata": {
        "id": "TGR9C2OvLKE9"
      },
      "execution_count": null,
      "outputs": []
    },
    {
      "cell_type": "code",
      "source": [
        "qqq = qq.detach().numpy()"
      ],
      "metadata": {
        "id": "oMzx35pf7aSp"
      },
      "execution_count": 96,
      "outputs": []
    },
    {
      "cell_type": "code",
      "source": [
        "zeros = qqq[np.where(qqq[:,2] == 1.)]"
      ],
      "metadata": {
        "id": "Ik641Cgi7TE9"
      },
      "execution_count": 102,
      "outputs": []
    },
    {
      "cell_type": "code",
      "source": [
        "ones = qqq[np.where(qqq[:,3] == 1.)]"
      ],
      "metadata": {
        "id": "EiOne72a-bFR"
      },
      "execution_count": 103,
      "outputs": []
    },
    {
      "cell_type": "code",
      "source": [
        "\n",
        "x = torch.Tensor(data)\n",
        "pad_x = torch.zeros(100,2)\n",
        "x = torch.cat((x,pad_x), dim=1)\n",
        "x"
      ],
      "metadata": {
        "colab": {
          "base_uri": "https://localhost:8080/"
        },
        "id": "hqK8W2KHUPQX",
        "outputId": "5cdc7805-2d17-4caa-f955-7890a9af2fe5"
      },
      "execution_count": null,
      "outputs": [
        {
          "output_type": "execute_result",
          "data": {
            "text/plain": [
              "tensor([[-0.9129,  0.4957,  0.0000,  0.0000],\n",
              "        [ 1.0458,  0.3993,  0.0000,  0.0000],\n",
              "        [ 1.1497, -0.4741,  0.0000,  0.0000],\n",
              "        [ 0.9326, -0.4417,  0.0000,  0.0000],\n",
              "        [-0.3255,  0.9104,  0.0000,  0.0000],\n",
              "        [-0.0474,  0.4102,  0.0000,  0.0000],\n",
              "        [ 0.3740,  1.0048,  0.0000,  0.0000],\n",
              "        [ 0.8986, -0.4994,  0.0000,  0.0000],\n",
              "        [ 0.3737,  0.9485,  0.0000,  0.0000],\n",
              "        [ 1.0545, -0.0075,  0.0000,  0.0000],\n",
              "        [ 0.5288, -0.4361,  0.0000,  0.0000],\n",
              "        [ 0.6660,  0.8147,  0.0000,  0.0000],\n",
              "        [ 0.8144,  0.7123,  0.0000,  0.0000],\n",
              "        [ 0.2185, -0.0285,  0.0000,  0.0000],\n",
              "        [ 2.0532,  0.3250,  0.0000,  0.0000],\n",
              "        [-0.0824,  0.4929,  0.0000,  0.0000],\n",
              "        [-0.9481,  0.3043,  0.0000,  0.0000],\n",
              "        [ 0.4956,  0.8541,  0.0000,  0.0000],\n",
              "        [ 0.9103,  0.5283,  0.0000,  0.0000],\n",
              "        [ 0.9781,  0.2266,  0.0000,  0.0000],\n",
              "        [-0.0742,  0.9832,  0.0000,  0.0000],\n",
              "        [ 0.7932, -0.4515,  0.0000,  0.0000],\n",
              "        [-0.5388,  0.7517,  0.0000,  0.0000],\n",
              "        [ 0.5741, -0.4569,  0.0000,  0.0000],\n",
              "        [-0.5167,  0.9436,  0.0000,  0.0000],\n",
              "        [-0.7792,  0.7404,  0.0000,  0.0000],\n",
              "        [ 1.0546,  0.1291,  0.0000,  0.0000],\n",
              "        [-0.5353,  0.8338,  0.0000,  0.0000],\n",
              "        [ 0.6962, -0.4592,  0.0000,  0.0000],\n",
              "        [ 0.6013, -0.4356,  0.0000,  0.0000],\n",
              "        [ 0.1385, -0.1335,  0.0000,  0.0000],\n",
              "        [-0.9072,  0.3783,  0.0000,  0.0000],\n",
              "        [ 1.9232,  0.3584,  0.0000,  0.0000],\n",
              "        [ 0.0277,  0.0282,  0.0000,  0.0000],\n",
              "        [ 0.2358,  1.0184,  0.0000,  0.0000],\n",
              "        [ 0.6902,  0.6799,  0.0000,  0.0000],\n",
              "        [ 1.4347, -0.3362,  0.0000,  0.0000],\n",
              "        [ 1.0698, -0.5123,  0.0000,  0.0000],\n",
              "        [-0.2921,  0.9743,  0.0000,  0.0000],\n",
              "        [-0.9736,  0.1204,  0.0000,  0.0000],\n",
              "        [ 1.7124, -0.0257,  0.0000,  0.0000],\n",
              "        [-0.7896,  0.7042,  0.0000,  0.0000],\n",
              "        [ 1.6827, -0.1874,  0.0000,  0.0000],\n",
              "        [-0.1734,  0.9609,  0.0000,  0.0000],\n",
              "        [-0.2582,  0.9851,  0.0000,  0.0000],\n",
              "        [ 1.8626,  0.0779,  0.0000,  0.0000],\n",
              "        [ 0.2599, -0.2494,  0.0000,  0.0000],\n",
              "        [-0.9233,  0.4938,  0.0000,  0.0000],\n",
              "        [ 0.2055,  1.0243,  0.0000,  0.0000],\n",
              "        [ 0.7809,  0.6543,  0.0000,  0.0000],\n",
              "        [ 0.6928,  0.8519,  0.0000,  0.0000],\n",
              "        [ 0.0859,  0.1076,  0.0000,  0.0000],\n",
              "        [-0.0290,  0.3103,  0.0000,  0.0000],\n",
              "        [-0.0103,  1.0283,  0.0000,  0.0000],\n",
              "        [ 0.1373,  0.9361,  0.0000,  0.0000],\n",
              "        [ 0.9650,  0.4517,  0.0000,  0.0000],\n",
              "        [-0.7591,  0.6922,  0.0000,  0.0000],\n",
              "        [ 1.6971, -0.2098,  0.0000,  0.0000],\n",
              "        [ 0.8009,  0.4866,  0.0000,  0.0000],\n",
              "        [ 0.5236,  0.7979,  0.0000,  0.0000],\n",
              "        [ 1.9351,  0.1820,  0.0000,  0.0000],\n",
              "        [-1.0111,  0.2327,  0.0000,  0.0000],\n",
              "        [ 1.8578,  0.1132,  0.0000,  0.0000],\n",
              "        [ 0.2194,  0.9859,  0.0000,  0.0000],\n",
              "        [ 1.4470, -0.3154,  0.0000,  0.0000],\n",
              "        [-0.3434,  0.9295,  0.0000,  0.0000],\n",
              "        [-1.0104,  0.2096,  0.0000,  0.0000],\n",
              "        [ 0.8882,  0.2622,  0.0000,  0.0000],\n",
              "        [ 1.3032, -0.4302,  0.0000,  0.0000],\n",
              "        [ 0.3410, -0.2827,  0.0000,  0.0000],\n",
              "        [-0.9578,  0.0963,  0.0000,  0.0000],\n",
              "        [ 0.6746, -0.4798,  0.0000,  0.0000],\n",
              "        [-0.0977,  0.9668,  0.0000,  0.0000],\n",
              "        [ 0.9741,  0.0629,  0.0000,  0.0000],\n",
              "        [ 2.0007,  0.2141,  0.0000,  0.0000],\n",
              "        [ 0.9248,  0.2038,  0.0000,  0.0000],\n",
              "        [ 1.7843, -0.2365,  0.0000,  0.0000],\n",
              "        [ 2.0254,  0.3391,  0.0000,  0.0000],\n",
              "        [ 1.5433, -0.3960,  0.0000,  0.0000],\n",
              "        [ 0.8996, -0.4997,  0.0000,  0.0000],\n",
              "        [ 0.0623,  0.1352,  0.0000,  0.0000],\n",
              "        [ 1.9527,  0.3908,  0.0000,  0.0000],\n",
              "        [-0.8069,  0.6167,  0.0000,  0.0000],\n",
              "        [-1.0517, -0.0104,  0.0000,  0.0000],\n",
              "        [ 0.4202, -0.3453,  0.0000,  0.0000],\n",
              "        [ 1.7411, -0.2742,  0.0000,  0.0000],\n",
              "        [-0.5602,  0.7973,  0.0000,  0.0000],\n",
              "        [ 1.6076, -0.3308,  0.0000,  0.0000],\n",
              "        [ 0.0839,  0.3856,  0.0000,  0.0000],\n",
              "        [ 0.1630,  0.0669,  0.0000,  0.0000],\n",
              "        [ 0.0129,  0.5506,  0.0000,  0.0000],\n",
              "        [ 0.4119,  0.9786,  0.0000,  0.0000],\n",
              "        [ 2.0676,  0.5721,  0.0000,  0.0000],\n",
              "        [ 1.3048, -0.5292,  0.0000,  0.0000],\n",
              "        [ 0.2411, -0.1863,  0.0000,  0.0000],\n",
              "        [ 0.4449, -0.3009,  0.0000,  0.0000],\n",
              "        [ 1.0749, -0.4673,  0.0000,  0.0000],\n",
              "        [ 1.2963, -0.5004,  0.0000,  0.0000],\n",
              "        [-0.8234,  0.4991,  0.0000,  0.0000],\n",
              "        [ 1.4062, -0.4255,  0.0000,  0.0000]])"
            ]
          },
          "metadata": {},
          "execution_count": 95
        }
      ]
    },
    {
      "cell_type": "code",
      "source": [
        "from keras.datasets import mnist"
      ],
      "metadata": {
        "id": "OFARQ3XsYnpG"
      },
      "execution_count": null,
      "outputs": []
    },
    {
      "cell_type": "code",
      "source": [
        "(train_X, train_y), (test_X, test_y) = mnist.load_data()"
      ],
      "metadata": {
        "colab": {
          "base_uri": "https://localhost:8080/"
        },
        "id": "SpmiSxvLYvHL",
        "outputId": "b6bfc472-9cf1-46fd-a724-eb429fac2fda"
      },
      "execution_count": null,
      "outputs": [
        {
          "output_type": "stream",
          "name": "stdout",
          "text": [
            "Downloading data from https://storage.googleapis.com/tensorflow/tf-keras-datasets/mnist.npz\n",
            "11490434/11490434 [==============================] - 1s 0us/step\n"
          ]
        }
      ]
    },
    {
      "cell_type": "code",
      "source": [
        "test_X"
      ],
      "metadata": {
        "id": "mS7PUoXSYzBk"
      },
      "execution_count": null,
      "outputs": []
    },
    {
      "cell_type": "code",
      "source": [
        "plt.imshow(train_X[9], cmap=plt.get_cmap('gray'))\n",
        "plt.show()"
      ],
      "metadata": {
        "colab": {
          "base_uri": "https://localhost:8080/",
          "height": 311
        },
        "id": "Woo6l5_xZYLS",
        "outputId": "4b8c48c4-ccff-473d-8fda-84a885dee1ac"
      },
      "execution_count": null,
      "outputs": [
        {
          "output_type": "display_data",
          "data": {
            "text/plain": [
              "<Figure size 640x480 with 1 Axes>"
            ],
            "image/png": "[encoded data removed]"
          },
          "metadata": {}
        }
      ]
    },
    {
      "cell_type": "code",
      "source": [
        "train_y[9]"
      ],
      "metadata": {
        "colab": {
          "base_uri": "https://localhost:8080/"
        },
        "id": "PlPjNvfuax8X",
        "outputId": "7ef8ee1d-ea65-4b63-9989-0c28a63dd38c"
      },
      "execution_count": null,
      "outputs": [
        {
          "output_type": "execute_result",
          "data": {
            "text/plain": [
              "4"
            ]
          },
          "metadata": {},
          "execution_count": 75
        }
      ]
    }
  ]
}